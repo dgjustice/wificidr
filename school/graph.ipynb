{
 "cells": [
  {
   "cell_type": "code",
   "execution_count": 12,
   "metadata": {
    "collapsed": false
   },
   "outputs": [
    {
     "name": "stdout",
     "output_type": "stream",
     "text": [
      "Using matplotlib backend: Qt5Agg\n",
      "[  1.   2.   3.   4.   5.   6.   7.   8.   9.  10.  11.  12.  13.  14.  15.\n",
      "  16.  17.  18.  19.]\n"
     ]
    }
   ],
   "source": [
    "%matplotlib\n",
    "import numpy as np\n",
    "import matplotlib.pyplot as plt\n",
    "\n",
    "plt.figure(1)\n",
    "plt.grid(True)\n",
    "\n",
    "plt.subplot(2, 1, 1)\n",
    "#ticklines = plt.get_xticklines() + plt.get_yticklines()\n",
    "#gridlines = plt.get_xgridlines() + plt.get_ygridlines()\n",
    "#ticklabels = plt.get_xticklabels() + plt.get_yticklabels()\n",
    "\n",
    "x = np.arange(1,20, dtype=float)\n",
    "y = np.arange(1,20, dtype=float)\n",
    "y.fill(-1)\n",
    "print(x)\n",
    "#plt.plot(x, np.power(y, (x+1))/x**2, label=r\"$\\frac{(-1)^{n+1}}{n^2}$\")\n",
    "z = np.power(y, (x+1))/x**2\n",
    "plt.bar(x, np.cumsum(z), color=\"black\", alpha=0.7, label=\"Sum of series\")\n",
    "\n",
    "plt.bar(x[z>0], z[z>0], (1/1.5), color=\"blue\", label=r\"$\\frac{(-1)^{n+1}}{n^2}$\")\n",
    "plt.bar(x[z<0], z[z<0], (1/1.5), color=\"red\")\n",
    "\n",
    "plt.subplot(2, 1, 2)\n",
    "\n",
    "x = np.arange(2,20, dtype=float)\n",
    "y = np.arange(2,20, dtype=float)\n",
    "y.fill(-1)\n",
    "z = np.power(y, (x+1))*(x**2)/np.log(x)\n",
    "\n",
    "plt.bar(x, np.cumsum(z), color=\"black\", alpha=0.7, label=\"Sum of series\")\n",
    "\n",
    "plt.bar(x[z>0], z[z>0], (1/1.5), color=\"blue\", label=r\"$\\frac{(-1)^{n+1}n^2}{ln(n)}$\")\n",
    "plt.bar(x[z<0], z[z<0], (1/1.5), color=\"red\")\n",
    "\n",
    "# handles, labels = plt.get_legend_handles_labels()\n",
    "plt.legend(handles, labels)\n",
    "plt.show()\n"
   ]
  },
  {
   "cell_type": "code",
   "execution_count": 6,
   "metadata": {
    "collapsed": false
   },
   "outputs": [
    {
     "name": "stdout",
     "output_type": "stream",
     "text": [
      "Using matplotlib backend: Qt5Agg\n"
     ]
    }
   ],
   "source": [
    "%matplotlib\n",
    "import numpy as np\n",
    "import matplotlib.pyplot as plt\n",
    "\n",
    "fig, ax = plt.subplots()\n",
    "ax.grid(True)\n",
    "\n",
    "ticklines = ax.get_xticklines() + ax.get_yticklines()\n",
    "gridlines = ax.get_xgridlines() + ax.get_ygridlines()\n",
    "ticklabels = ax.get_xticklabels() + ax.get_yticklabels()\n",
    "\n",
    "x = np.arange(2,20, dtype=float)\n",
    "y = np.arange(2,20, dtype=float)\n",
    "y.fill(-1)\n",
    "z = np.power(y, (x+1))*(x**2)/np.log(x)\n",
    "\n",
    "ax.bar(x, np.cumsum(z), color=\"black\", alpha=0.7, label=\"Sum of series\")\n",
    "\n",
    "ax.bar(x[z>0], z[z>0], (1/1.5), color=\"blue\", label=r\"$\\frac{(-1)^{n+1}n^2}{ln(n)}$\")\n",
    "ax.bar(x[z<0], z[z<0], (1/1.5), color=\"red\")\n",
    "\n",
    "\n",
    "#ax.plot(x, z, label=r\"$\\frac{(-1)^{n+1}n^2}{ln(n)}$\")\n",
    "\n",
    "handles, labels = ax.get_legend_handles_labels()\n",
    "ax.legend(handles, labels, loc=2)\n",
    "plt.show()"
   ]
  },
  {
   "cell_type": "code",
   "execution_count": null,
   "metadata": {
    "collapsed": true
   },
   "outputs": [],
   "source": []
  }
 ],
 "metadata": {
  "anaconda-cloud": {},
  "kernelspec": {
   "display_name": "Python [default]",
   "language": "python",
   "name": "python3"
  },
  "language_info": {
   "codemirror_mode": {
    "name": "ipython",
    "version": 3
   },
   "file_extension": ".py",
   "mimetype": "text/x-python",
   "name": "python",
   "nbconvert_exporter": "python",
   "pygments_lexer": "ipython3",
   "version": "3.5.2"
  }
 },
 "nbformat": 4,
 "nbformat_minor": 1
}
