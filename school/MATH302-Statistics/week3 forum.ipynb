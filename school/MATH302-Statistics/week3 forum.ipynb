{
 "cells": [
  {
   "cell_type": "code",
   "execution_count": 15,
   "metadata": {},
   "outputs": [],
   "source": [
    "import numpy as np\n",
    "# I know these are all standard functions. This is a learning exercise for me, \n",
    "# not a new library.  :-)\n",
    "\n",
    "class Population(object):\n",
    "    @classmethod\n",
    "    def mean(cls, data):\n",
    "        return np.sum(data) / len(data)\n",
    "\n",
    "    @classmethod\n",
    "    def variance(cls, data):\n",
    "        return np.sum((data - cls.mean(data))**2) / len(data)\n",
    "\n",
    "    @classmethod\n",
    "    def standard_deviation(cls, data):\n",
    "        return np.sqrt(cls.variance(data))\n"
   ]
  },
  {
   "cell_type": "code",
   "execution_count": 14,
   "metadata": {},
   "outputs": [
    {
     "name": "stdout",
     "output_type": "stream",
     "text": [
      "[0.38, 0.21, 0.32, 0.28, 0.22, 0.3, 0.29, 0.27, 0.28, 0.26]\n",
      "Mean: 0.261\n",
      "[0.38, 0.21, 0.32, 0.28, 0.22, 0.3, 0.29, 0.27, 0.28, 0.26]\n",
      "Standard deviation: 0.04\n",
      "Minimum: 0.14, Maximum: 0.46\n"
     ]
    },
    {
     "data": {
      "image/png": "[encoded data removed]",
      "text/plain": [
       "<matplotlib.figure.Figure at 0x7f289add9ac8>"
      ]
     },
     "metadata": {},
     "output_type": "display_data"
    }
   ],
   "source": [
    "import numpy as np\n",
    "import matplotlib.pyplot as plt\n",
    "import random\n",
    "\n",
    "students = np.array([0 for b in range(15)] + [1 for g in range(30)])\n",
    "np.random.shuffle(students)\n",
    "\n",
    "def experiment(n):\n",
    "    hits = 0\n",
    "    for i in range(n):\n",
    "        group = np.array([np.random.choice(students) for i in range(10)])\n",
    "        if np.sum(group) == 7:\n",
    "            hits += 1\n",
    "    return(hits/n)\n",
    "\n",
    "experiments = 1000\n",
    "tests = 100\n",
    "results = []\n",
    "for i in range(experiments):\n",
    "    # reseed the generator\n",
    "    np.random.seed()\n",
    "    results.append(experiment(tests))\n",
    "\n",
    "print(\"Mean: {:2.3f}\".format(Population.mean(results)))\n",
    "print(\"Standard deviation: {:2.2f}\".format(Population.standard_deviation(results)))\n",
    "print(\"Minimum: {:1.2f}, Maximum: {:1.2f}\".format(min(results), max(results)))\n",
    "n, bins, patches = plt.hist(results, 10, density=True, facecolor='g', alpha=0.75)\n",
    "\n",
    "plt.xlabel('Hits/Experiments')\n",
    "plt.ylabel('Hits')\n",
    "plt.title('Histogram of choices')\n",
    "plt.grid(True)\n",
    "plt.show()"
   ]
  },
  {
   "cell_type": "code",
   "execution_count": 7,
   "metadata": {},
   "outputs": [
    {
     "name": "stdout",
     "output_type": "stream",
     "text": [
      "Mean: 0.261\n",
      "Standard deviation: 0.04\n",
      "Minimum: 0.13, Maximum: 0.40\n"
     ]
    },
    {
     "data": {
      "image/png": "[encoded data removed]",
      "text/plain": [
       "<matplotlib.figure.Figure at 0x7f289adf4128>"
      ]
     },
     "metadata": {},
     "output_type": "display_data"
    }
   ],
   "source": [
    "import numpy as np\n",
    "import matplotlib.pyplot as plt\n",
    "import random\n",
    "\n",
    "students = ['boy%d' % b for b in range(15)] + ['girl%d' % g for g in range(30)]\n",
    "\n",
    "def experiment(n):\n",
    "    hits = 0\n",
    "    for i in range(n):\n",
    "        group = [random.choice(students) for i in range(10)]\n",
    "        n_boys = len(list(filter(lambda x: 'boy' in x, group)))\n",
    "        if n_boys == 3:\n",
    "            hits += 1\n",
    "    return(hits/n)\n",
    "\n",
    "experiments = 1000\n",
    "tests = 100\n",
    "results = []\n",
    "for i in range(experiments):\n",
    "    # reseed the generator\n",
    "    np.random.seed()\n",
    "    results.append(experiment(tests))\n",
    "\n",
    "print(\"Mean: {:2.3f}\".format(Population.mean(results)))\n",
    "print(\"Standard deviation: {:2.2f}\".format(Population.standard_deviation(results)))\n",
    "print(\"Minimum: {:1.2f}, Maximum: {:1.2f}\".format(min(results), max(results)))\n",
    "n, bins, patches = plt.hist(results, 10, density=True, facecolor='g', alpha=0.75)\n",
    "\n",
    "plt.xlabel('Hits/Experiments')\n",
    "plt.ylabel('Hits')\n",
    "plt.title('Histogram of choices')\n",
    "plt.grid(True)\n",
    "plt.show()"
   ]
  },
  {
   "cell_type": "code",
   "execution_count": null,
   "metadata": {},
   "outputs": [],
   "source": []
  }
 ],
 "metadata": {
  "kernelspec": {
   "display_name": "Python 3",
   "language": "python",
   "name": "python3"
  },
  "language_info": {
   "codemirror_mode": {
    "name": "ipython",
    "version": 3
   },
   "file_extension": ".py",
   "mimetype": "text/x-python",
   "name": "python",
   "nbconvert_exporter": "python",
   "pygments_lexer": "ipython3",
   "version": "3.6.4"
  }
 },
 "nbformat": 4,
 "nbformat_minor": 2
}
