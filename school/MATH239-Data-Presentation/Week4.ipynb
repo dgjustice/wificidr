{
 "cells": [
  {
   "cell_type": "code",
   "execution_count": 57,
   "metadata": {},
   "outputs": [
    {
     "data": {
      "text/html": [
       "<div>\n",
       "<style scoped>\n",
       "    .dataframe tbody tr th:only-of-type {\n",
       "        vertical-align: middle;\n",
       "    }\n",
       "\n",
       "    .dataframe tbody tr th {\n",
       "        vertical-align: top;\n",
       "    }\n",
       "\n",
       "    .dataframe thead th {\n",
       "        text-align: right;\n",
       "    }\n",
       "</style>\n",
       "<table border=\"1\" class=\"dataframe\">\n",
       "  <thead>\n",
       "    <tr style=\"text-align: right;\">\n",
       "      <th></th>\n",
       "      <th>No.</th>\n",
       "      <th>Time</th>\n",
       "      <th>Source</th>\n",
       "      <th>Destination</th>\n",
       "      <th>Protocol</th>\n",
       "      <th>Length</th>\n",
       "      <th>Info</th>\n",
       "    </tr>\n",
       "  </thead>\n",
       "  <tbody>\n",
       "    <tr>\n",
       "      <th>0</th>\n",
       "      <td>1</td>\n",
       "      <td>0.000000</td>\n",
       "      <td>18.211.118.21</td>\n",
       "      <td>192.168.1.248</td>\n",
       "      <td>TCP</td>\n",
       "      <td>66</td>\n",
       "      <td>443  &gt;  33100 [ACK] Seq=1 Ack=1 Win=17 Len=0 T...</td>\n",
       "    </tr>\n",
       "    <tr>\n",
       "      <th>1</th>\n",
       "      <td>2</td>\n",
       "      <td>0.000465</td>\n",
       "      <td>18.211.118.21</td>\n",
       "      <td>192.168.1.248</td>\n",
       "      <td>TLSv1.2</td>\n",
       "      <td>122</td>\n",
       "      <td>Application Data</td>\n",
       "    </tr>\n",
       "    <tr>\n",
       "      <th>2</th>\n",
       "      <td>3</td>\n",
       "      <td>0.433247</td>\n",
       "      <td>149.112.112.112</td>\n",
       "      <td>192.168.1.248</td>\n",
       "      <td>TCP</td>\n",
       "      <td>66</td>\n",
       "      <td>443  &gt;  52906 [ACK] Seq=1 Ack=1 Win=588 Len=0 ...</td>\n",
       "    </tr>\n",
       "    <tr>\n",
       "      <th>3</th>\n",
       "      <td>4</td>\n",
       "      <td>0.579567</td>\n",
       "      <td>149.112.112.112</td>\n",
       "      <td>192.168.1.248</td>\n",
       "      <td>TLSv1.2</td>\n",
       "      <td>313</td>\n",
       "      <td>Application Data</td>\n",
       "    </tr>\n",
       "    <tr>\n",
       "      <th>4</th>\n",
       "      <td>5</td>\n",
       "      <td>1.048138</td>\n",
       "      <td>208.85.40.20</td>\n",
       "      <td>192.168.1.248</td>\n",
       "      <td>TCP</td>\n",
       "      <td>66</td>\n",
       "      <td>443  &gt;  42740 [ACK] Seq=1 Ack=1 Win=65535 Len=...</td>\n",
       "    </tr>\n",
       "  </tbody>\n",
       "</table>\n",
       "</div>"
      ],
      "text/plain": [
       "   No.      Time           Source    Destination Protocol  Length  \\\n",
       "0    1  0.000000    18.211.118.21  192.168.1.248      TCP      66   \n",
       "1    2  0.000465    18.211.118.21  192.168.1.248  TLSv1.2     122   \n",
       "2    3  0.433247  149.112.112.112  192.168.1.248      TCP      66   \n",
       "3    4  0.579567  149.112.112.112  192.168.1.248  TLSv1.2     313   \n",
       "4    5  1.048138     208.85.40.20  192.168.1.248      TCP      66   \n",
       "\n",
       "                                                Info  \n",
       "0  443  >  33100 [ACK] Seq=1 Ack=1 Win=17 Len=0 T...  \n",
       "1                                   Application Data  \n",
       "2  443  >  52906 [ACK] Seq=1 Ack=1 Win=588 Len=0 ...  \n",
       "3                                   Application Data  \n",
       "4  443  >  42740 [ACK] Seq=1 Ack=1 Win=65535 Len=...  "
      ]
     },
     "execution_count": 57,
     "metadata": {},
     "output_type": "execute_result"
    }
   ],
   "source": [
    "import pandas as pd\n",
    "import matplotlib.pyplot as plt\n",
    "from math import sqrt\n",
    "from IPython.display import display\n",
    "\n",
    "df = pd.read_csv(\"pcap.csv\")\n",
    "df.head()"
   ]
  },
  {
   "cell_type": "markdown",
   "metadata": {},
   "source": [
    "##  Histogram\n",
    "\n",
    "The only categorical variable in this data set is \"Length\", so let's take a look at it.  The data is skewed to the right in this example."
   ]
  },
  {
   "cell_type": "code",
   "execution_count": 58,
   "metadata": {},
   "outputs": [
    {
     "data": {
      "image/png": "[encoded data removed]",
      "text/plain": [
       "<Figure size 432x288 with 1 Axes>"
      ]
     },
     "metadata": {
      "needs_background": "light"
     },
     "output_type": "display_data"
    }
   ],
   "source": [
    "import matplotlib.pyplot as plt\n",
    "\n",
    "plt.xlabel(\"Length\")\n",
    "plt.ylabel(\"Count\")\n",
    "plt = df.Length.hist()"
   ]
  },
  {
   "cell_type": "code",
   "execution_count": 59,
   "metadata": {},
   "outputs": [
    {
     "name": "stdout",
     "output_type": "stream",
     "text": [
      "Number of data points: 30\n"
     ]
    }
   ],
   "source": [
    "print(f\"Number of data points: {len(df)}\")"
   ]
  },
  {
   "cell_type": "markdown",
   "metadata": {},
   "source": [
    "## Median\n",
    "\n",
    "The software libraries that I am using include built-in functions to make a litany of statistical calculations.  I will demonstrate the procedures with and without these functions in order to shed light on the concepts being learned.\n",
    "\n",
    "The median is the \"middle\" value of a **sorted** list of data.  Since there are an even number of entries in my list, I have to take the two center values and divide by two.  Note that in this particular case, the list is indexed from \"0\"."
   ]
  },
  {
   "cell_type": "code",
   "execution_count": 60,
   "metadata": {},
   "outputs": [
    {
     "name": "stdout",
     "output_type": "stream",
     "text": [
      "The median is 81.5.\n",
      "Does my calculation match the built-in library?\n",
      "Is 81.5 == 81.5?  True!\n"
     ]
    }
   ],
   "source": [
    "lengths = df.Length.sort_values().reset_index()\n",
    "median = (lengths.Length.loc[14] + lengths.Length.loc[15]) / 2\n",
    "print(f\"The median is {median}.\")\n",
    "print(\"Does my calculation match the built-in library?\")\n",
    "print(f\"Is {median} == {df.Length.median()}?  {median == df.Length.median()}!\")"
   ]
  },
  {
   "cell_type": "markdown",
   "metadata": {},
   "source": [
    "## Mean\n",
    "\n",
    "In statistics, there are different types of means.  The one used in the book is the aritmetic mean.  This is the \"average\" we all learned in grade school.  The data I am using represents a population.  I did not use random sampling to collect the values (though random sampling is more useful in my industry).  The mean doesn't require sorting the values.\n",
    "\n",
    "$$\\mu=\\frac{\\sum X_1 + X_2 + X_3 + X_n}{n}$$"
   ]
  },
  {
   "cell_type": "code",
   "execution_count": 61,
   "metadata": {},
   "outputs": [
    {
     "name": "stdout",
     "output_type": "stream",
     "text": [
      "The population mean is 160.56666666666666\n",
      "Does my calculation match the built-in library?\n",
      "Is 160.56666666666666 == 160.56666666666666?  True!\n"
     ]
    }
   ],
   "source": [
    "total = 0\n",
    "for val in df.Length:\n",
    "    total += val\n",
    "u = total / len(df)\n",
    "print(f\"The population mean is {u}\")\n",
    "print(\"Does my calculation match the built-in library?\")\n",
    "print(f\"Is {u} == {df.Length.mean()}?  {u == df.Length.mean()}!\")"
   ]
  },
  {
   "cell_type": "code",
   "execution_count": null,
   "metadata": {},
   "outputs": [],
   "source": []
  }
 ],
 "metadata": {
  "kernelspec": {
   "display_name": "Python 3",
   "language": "python",
   "name": "python3"
  },
  "language_info": {
   "codemirror_mode": {
    "name": "ipython",
    "version": 3
   },
   "file_extension": ".py",
   "mimetype": "text/x-python",
   "name": "python",
   "nbconvert_exporter": "python",
   "pygments_lexer": "ipython3",
   "version": "3.7.5"
  }
 },
 "nbformat": 4,
 "nbformat_minor": 4
}
