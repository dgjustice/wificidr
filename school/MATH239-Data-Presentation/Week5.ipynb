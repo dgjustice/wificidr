{
 "cells": [
  {
   "cell_type": "code",
   "execution_count": 7,
   "metadata": {},
   "outputs": [
    {
     "data": {
      "text/html": [
       "<div>\n",
       "<style scoped>\n",
       "    .dataframe tbody tr th:only-of-type {\n",
       "        vertical-align: middle;\n",
       "    }\n",
       "\n",
       "    .dataframe tbody tr th {\n",
       "        vertical-align: top;\n",
       "    }\n",
       "\n",
       "    .dataframe thead th {\n",
       "        text-align: right;\n",
       "    }\n",
       "</style>\n",
       "<table border=\"1\" class=\"dataframe\">\n",
       "  <thead>\n",
       "    <tr style=\"text-align: right;\">\n",
       "      <th></th>\n",
       "      <th>No.</th>\n",
       "      <th>Time</th>\n",
       "      <th>Source</th>\n",
       "      <th>Destination</th>\n",
       "      <th>Protocol</th>\n",
       "      <th>Length</th>\n",
       "      <th>Info</th>\n",
       "    </tr>\n",
       "  </thead>\n",
       "  <tbody>\n",
       "    <tr>\n",
       "      <th>0</th>\n",
       "      <td>1</td>\n",
       "      <td>0.000000</td>\n",
       "      <td>18.211.118.21</td>\n",
       "      <td>192.168.1.248</td>\n",
       "      <td>TCP</td>\n",
       "      <td>66</td>\n",
       "      <td>443  &gt;  33100 [ACK] Seq=1 Ack=1 Win=17 Len=0 T...</td>\n",
       "    </tr>\n",
       "    <tr>\n",
       "      <th>1</th>\n",
       "      <td>2</td>\n",
       "      <td>0.000465</td>\n",
       "      <td>18.211.118.21</td>\n",
       "      <td>192.168.1.248</td>\n",
       "      <td>TLSv1.2</td>\n",
       "      <td>122</td>\n",
       "      <td>Application Data</td>\n",
       "    </tr>\n",
       "    <tr>\n",
       "      <th>2</th>\n",
       "      <td>3</td>\n",
       "      <td>0.433247</td>\n",
       "      <td>149.112.112.112</td>\n",
       "      <td>192.168.1.248</td>\n",
       "      <td>TCP</td>\n",
       "      <td>66</td>\n",
       "      <td>443  &gt;  52906 [ACK] Seq=1 Ack=1 Win=588 Len=0 ...</td>\n",
       "    </tr>\n",
       "    <tr>\n",
       "      <th>3</th>\n",
       "      <td>4</td>\n",
       "      <td>0.579567</td>\n",
       "      <td>149.112.112.112</td>\n",
       "      <td>192.168.1.248</td>\n",
       "      <td>TLSv1.2</td>\n",
       "      <td>313</td>\n",
       "      <td>Application Data</td>\n",
       "    </tr>\n",
       "    <tr>\n",
       "      <th>4</th>\n",
       "      <td>5</td>\n",
       "      <td>1.048138</td>\n",
       "      <td>208.85.40.20</td>\n",
       "      <td>192.168.1.248</td>\n",
       "      <td>TCP</td>\n",
       "      <td>66</td>\n",
       "      <td>443  &gt;  42740 [ACK] Seq=1 Ack=1 Win=65535 Len=...</td>\n",
       "    </tr>\n",
       "  </tbody>\n",
       "</table>\n",
       "</div>"
      ],
      "text/plain": [
       "   No.      Time           Source    Destination Protocol  Length  \\\n",
       "0    1  0.000000    18.211.118.21  192.168.1.248      TCP      66   \n",
       "1    2  0.000465    18.211.118.21  192.168.1.248  TLSv1.2     122   \n",
       "2    3  0.433247  149.112.112.112  192.168.1.248      TCP      66   \n",
       "3    4  0.579567  149.112.112.112  192.168.1.248  TLSv1.2     313   \n",
       "4    5  1.048138     208.85.40.20  192.168.1.248      TCP      66   \n",
       "\n",
       "                                                Info  \n",
       "0  443  >  33100 [ACK] Seq=1 Ack=1 Win=17 Len=0 T...  \n",
       "1                                   Application Data  \n",
       "2  443  >  52906 [ACK] Seq=1 Ack=1 Win=588 Len=0 ...  \n",
       "3                                   Application Data  \n",
       "4  443  >  42740 [ACK] Seq=1 Ack=1 Win=65535 Len=...  "
      ]
     },
     "execution_count": 7,
     "metadata": {},
     "output_type": "execute_result"
    }
   ],
   "source": [
    "import pandas as pd\n",
    "import matplotlib.pyplot as plt\n",
    "from math import sqrt\n",
    "from IPython.display import display\n",
    "import numpy as np\n",
    "\n",
    "df = pd.read_csv(\"pcap.csv\")\n",
    "df.head()"
   ]
  },
  {
   "cell_type": "markdown",
   "metadata": {},
   "source": [
    "## Standard deviation\n",
    "\n",
    "I will treat my data as a population instead of a sample as in my other posts.  The formula for the population standard deviation is:\n",
    "\n",
    "$$\\sigma=\\sqrt{\\frac{\\sum(x-\\mu)^2}{N}}$$\n",
    "\n",
    "Where $\\mu$ is the mean, $x$ is a data point, and $N$ is the total number of elements."
   ]
  },
  {
   "cell_type": "code",
   "execution_count": 8,
   "metadata": {},
   "outputs": [
    {
     "name": "stdout",
     "output_type": "stream",
     "text": [
      "According to Pandas: 192.97823413684435\n",
      "According to Numpy: 189.73467146400935\n",
      "\n",
      "According to me: 190\n"
     ]
    }
   ],
   "source": [
    "print(f\"According to Pandas: {df.Length.std()}\")\n",
    "print(f\"According to Numpy: {np.std(df.Length)}\")\n",
    "\n",
    "std = round(sqrt(sum((df.Length.values - df.Length.mean())**2)/len(df.Length)))\n",
    "print(f\"\\nAccording to me: {std}\")"
   ]
  },
  {
   "cell_type": "markdown",
   "metadata": {},
   "source": [
    "#### Note!\n",
    "\n",
    "Always be sure to read the documentation of the libraries you are using.  The Pandas number is wrong by any stretch.  Their `std` function is _sample_ standard deviation, not population.  Numpy uses population."
   ]
  },
  {
   "cell_type": "markdown",
   "metadata": {},
   "source": [
    "## Five number summary\n",
    "\n",
    "Quartiles!  I messed this up on the test.  I got my means and medians mixed up.  I should have done a better job of checking my work!\n",
    "\n",
    "Q2 = median  \n",
    "Q1 = median(x $\\leq$ Q2)  \n",
    "Q3 = median(x $\\geq$ Q2)  \n",
    "\n",
    "Range = max - min  \n",
    "IQR = Q3 - Q1"
   ]
  },
  {
   "cell_type": "code",
   "execution_count": 9,
   "metadata": {},
   "outputs": [
    {
     "name": "stdout",
     "output_type": "stream",
     "text": [
      "First quartile:         66.0\n",
      "Second quartile:        81.5\n",
      "Third quartile:        134.0\n",
      "Range:                 760.0\n",
      "IQR:                    68.0\n",
      "Standard dev:          190.0\n"
     ]
    }
   ],
   "source": [
    "Q2 = df.Length.median()\n",
    "Q1 = df.Length[df.Length <= Q2].median()\n",
    "Q3 = df.Length[df.Length >= Q2].median()\n",
    "IQR = Q3 - Q1\n",
    "Range = max(df.Length) - min(df.Length)\n",
    "\n",
    "label = f\"\"\"{'First quartile:':20}{Q1:>8.1f}\n",
    "{'Second quartile: ':20}{Q2:>8.1f}\n",
    "{'Third quartile: ':20}{Q3:>8.1f}\n",
    "{'Range: ':20}{Range:>8.1f}\n",
    "{'IQR: ':20}{IQR:>8.1f}\n",
    "{'Standard dev: ':20}{std:>8.1f}\"\"\"\n",
    "\n",
    "print(label)"
   ]
  },
  {
   "cell_type": "code",
   "execution_count": 10,
   "metadata": {},
   "outputs": [
    {
     "data": {
      "text/plain": [
       "0.25     66.0\n",
       "0.50     81.5\n",
       "0.75    134.0\n",
       "Name: Length, dtype: float64"
      ]
     },
     "execution_count": 10,
     "metadata": {},
     "output_type": "execute_result"
    }
   ],
   "source": [
    "df.Length.quantile([0.25, 0.5, 0.75])"
   ]
  },
  {
   "cell_type": "code",
   "execution_count": 11,
   "metadata": {},
   "outputs": [
    {
     "data": {
      "image/png": "[encoded data removed]",
      "text/plain": [
       "<Figure size 640x480 with 1 Axes>"
      ]
     },
     "metadata": {},
     "output_type": "display_data"
    }
   ],
   "source": [
    "from matplotlib.pyplot import figure\n",
    "figure(num=None, figsize=(8, 6), dpi=80, facecolor='w', edgecolor='k')\n",
    "       \n",
    "_ = df.Length.hist(log=True, color=\"black\")\n",
    "plt.xlabel('Packet Length')\n",
    "plt.ylabel('Count')\n",
    "plt.title('Histogram of Packet Lengths')\n",
    "plt.text(400, 5, label + \"\\n\\ny-scale: logarithmic\", family='monospace')\n",
    "plt.grid(False)\n",
    "plt.plot([Q1, Q1], [0, 23], color=\"orange\")\n",
    "plt.text(Q1, 30, \"Q1\")\n",
    "plt.plot([Q2]*2, [0, 23], color=\"orange\")\n",
    "plt.text(Q2, 24, \"Q2\")\n",
    "plt.plot([Q2 + std]*2, [0, 23], color=\"blue\")\n",
    "plt.text(Q2 + std, 24, \"Q2 + $\\sigma$\")\n",
    "plt.plot([Q3]*2, [0, 23], color=\"orange\")\n",
    "plt.text(Q3, 23, \"Q3\")\n",
    "plt.show()"
   ]
  },
  {
   "cell_type": "markdown",
   "metadata": {},
   "source": [
    "## Conclusions\n",
    "\n",
    "Dr. Flink suggested in an earlier post that I look at using a logarithmic scale, which is what I have shown above.  My data is heavily skewed, and I think scaling smoothes it out a bit without losing sight of the bigger picture.  The skewness is also made apparent by the quartiles being piled up to the left as well.  $Q2 - \\sigma$ falls off the chart, but the positive half is graphed.  This small of a data collection doesn't yield many interesting results.  The larger data sets I have been looking at for the final project are a lot more compelling to look at.  Have a great weekend!"
   ]
  }
 ],
 "metadata": {
  "kernelspec": {
   "display_name": "Python 3",
   "language": "python",
   "name": "python3"
  },
  "language_info": {
   "codemirror_mode": {
    "name": "ipython",
    "version": 3
   },
   "file_extension": ".py",
   "mimetype": "text/x-python",
   "name": "python",
   "nbconvert_exporter": "python",
   "pygments_lexer": "ipython3",
   "version": "3.7.5"
  }
 },
 "nbformat": 4,
 "nbformat_minor": 4
}
