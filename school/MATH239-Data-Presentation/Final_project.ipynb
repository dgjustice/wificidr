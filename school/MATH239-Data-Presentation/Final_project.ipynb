{
 "cells": [
  {
   "cell_type": "code",
   "execution_count": 1,
   "metadata": {},
   "outputs": [
    {
     "data": {
      "text/html": [
       "<script>\n",
       "code_show=true; \n",
       "function code_toggle() {\n",
       " if (code_show){\n",
       " $('div.input').hide();\n",
       " } else {\n",
       " $('div.input').show();\n",
       " }\n",
       " code_show = !code_show\n",
       "} \n",
       "$( document ).ready(code_toggle);\n",
       "</script>\n",
       "<form action=\"javascript:code_toggle()\"><input type=\"submit\" value=\"Click here to toggle on/off the raw code.\"></form>"
      ],
      "text/plain": [
       "<IPython.core.display.HTML object>"
      ]
     },
     "execution_count": 1,
     "metadata": {},
     "output_type": "execute_result"
    }
   ],
   "source": [
    "from IPython.display import HTML\n",
    "\n",
    "HTML('''<script>\n",
    "code_show=true; \n",
    "function code_toggle() {\n",
    " if (code_show){\n",
    " $('div.input').hide();\n",
    " } else {\n",
    " $('div.input').show();\n",
    " }\n",
    " code_show = !code_show\n",
    "} \n",
    "$( document ).ready(code_toggle);\n",
    "</script>\n",
    "<form action=\"javascript:code_toggle()\"><input type=\"submit\" value=\"Click here to toggle on/off the raw code.\"></form>''')"
   ]
  },
  {
   "cell_type": "markdown",
   "metadata": {},
   "source": [
    "# Solar system small body analysis\n",
    "\n",
    "The data presented here is a sample collected from NASA's JPL Small-Body Database.\n",
    "They represent smaller objects in the Solar System such as comets, asteriods, and moons.\n",
    "I chose this data set because I am curious about space science, and this is an opportunity to learn more about the subject while fulfilling the requirements of the assignment.\n",
    "Please forgive any inaccurate statements about orbital mechanics!\n",
    "There are **22,458 cases** in my sample.\n",
    "\n",
    "### Variables\n",
    "\n",
    "|Title|Description|Type|\n",
    "|---|---|---|\n",
    "|full_name|Full Name|string|\n",
    "|a| [au] semi-major axis|float64|\n",
    "|e| eccentricity|float64|\n",
    "|i| [deg] inclination|float64|\n",
    "|w| [deg] perihelion degree|float64|\n",
    "|om| [deg] node degree (longitude of the ascending node)|float64|\n",
    "|ma| [deg] M mean anomaly degree|float64|\n",
    "|q| [au] perihelion distance|float64|\n",
    "|ad| [au] Q aphelion distance|float64|\n",
    "|per_y| period years|float64|\n",
    "|H| absolute magnitude|float64|\n",
    "|moid| [au] Earth MOID (minimum orbit intersection distance)|float64|\n",
    "|orbit_id|Orbit solution ID|string|\n",
    "|class|Orbit class|string|\n",
    "\n",
    "All of the `float64` data types are **quantitative** variables, and the `string` data types `orbit_id` and `class` are **categorical**.\n",
    "\n",
    "### Oribit Classes\n",
    "\n",
    "Below is a table of orbit classes.  There is a wealth of information on the [CNEOS website](https://cneos.jpl.nasa.gov/) that provides much more detail than I can here.\n",
    "\n",
    "|class|name|num|\n",
    "|---|:---|---|\n",
    "|AMO|Amor|8267|\n",
    "|APO|Apollo|12308|\n",
    "|ATE|Aten|1684|\n",
    "|ETc|Encke-type Comet|1|\n",
    "|HTC|Halley-type Comet|30|\n",
    "|IEO|Atira|21|\n",
    "|JFC|Jupiter-family Comet*|10|\n",
    "|JFc|Jupiter-family Comet|137|\n",
    "\n",
    "JFC -> Jupiter-family comet, classical definition (P < 20 y).  \n",
    "JFc -> Jupiter-family comet, as defined by Levison and Duncan (2 < TJupiter < 3)."
   ]
  },
  {
   "cell_type": "markdown",
   "metadata": {},
   "source": [
    "## Eccentricity\n",
    "\n",
    "The first quantitative variable I would like to explore is labeled `e` for eccecentricity.\n",
    "This variable takes on values between 0 and 1 where 0 is a perfectly circular orbit and close to 1 flattens the orbit into line.\n",
    "The distribution appears to be close to **normal** and slighly **skewed to the right**.\n",
    "\n",
    "    Mean: 0.447\n",
    "    Median: 0.460"
   ]
  },
  {
   "cell_type": "code",
   "execution_count": 34,
   "metadata": {},
   "outputs": [
    {
     "name": "stdout",
     "output_type": "stream",
     "text": [
      "Mean: 0.447\n",
      "Median: 0.460\n"
     ]
    },
    {
     "data": {
      "image/png": "[encoded data removed]",
      "text/plain": [
       "<Figure size 432x288 with 1 Axes>"
      ]
     },
     "metadata": {
      "needs_background": "light"
     },
     "output_type": "display_data"
    }
   ],
   "source": [
    "_ = df[\"e\"].hist()\n",
    "print(f\"Mean: {round(df['e'].mean(), 3):#.3g}\")\n",
    "print(f\"Median: {round(df['e'].median(), 3):#.3g}\")"
   ]
  },
  {
   "cell_type": "markdown",
   "metadata": {},
   "source": [
    "## Semi-major axis\n",
    "\n",
    "The other quantitative variable I would like to explore is the semi-major axis.\n",
    "This is the larger of the two axis of an ellipse (for `e` > 0).\n",
    "This distribution has a log-normal shape and is heavily **skewed to the right** with a much longer tail than the previous graph.\n",
    "Please note the *logarithmic scale* in the following graph.\n",
    "\n",
    "    Mean: 1.837 au  \n",
    "    Median: 1.723 au"
   ]
  },
  {
   "cell_type": "code",
   "execution_count": 36,
   "metadata": {},
   "outputs": [
    {
     "name": "stdout",
     "output_type": "stream",
     "text": [
      "Mean: 1.837\n",
      "Median: 1.723\n"
     ]
    },
    {
     "data": {
      "image/png": "[encoded data removed]",
      "text/plain": [
       "<Figure size 432x288 with 1 Axes>"
      ]
     },
     "metadata": {
      "needs_background": "light"
     },
     "output_type": "display_data"
    }
   ],
   "source": [
    "_ = df[\"a\"].hist(log=True)\n",
    "print(f\"Mean: {round(df['a'].mean(), 3)}\")\n",
    "print(f\"Median: {round(df['a'].median(), 3)}\")"
   ]
  },
  {
   "cell_type": "markdown",
   "metadata": {},
   "source": [
    "## Resources\n",
    "\n",
    "- https://ssd.jpl.nasa.gov/sbdb_query.cgi \n",
    "- https://earthobservatory.nasa.gov/features/OrbitsCatalog\n",
    "- https://www.airuniversity.af.edu/Portals/10/AUPress/Books/AU-18.PDF\n",
    "- https://cneos.jpl.nasa.gov/about/neo_groups.html\n",
    "- https://cneos.jpl.nasa.gov/glossary/"
   ]
  },
  {
   "cell_type": "code",
   "execution_count": null,
   "metadata": {},
   "outputs": [],
   "source": []
  }
 ],
 "metadata": {
  "kernelspec": {
   "display_name": "Python 3",
   "language": "python",
   "name": "python3"
  },
  "language_info": {
   "codemirror_mode": {
    "name": "ipython",
    "version": 3
   },
   "file_extension": ".py",
   "mimetype": "text/x-python",
   "name": "python",
   "nbconvert_exporter": "python",
   "pygments_lexer": "ipython3",
   "version": "3.7.5"
  }
 },
 "nbformat": 4,
 "nbformat_minor": 4
}
