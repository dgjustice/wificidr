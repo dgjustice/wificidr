{
 "cells": [
  {
   "cell_type": "code",
   "execution_count": 1,
   "metadata": {
    "collapsed": false
   },
   "outputs": [
    {
     "name": "stdout",
     "output_type": "stream",
     "text": [
      "Using matplotlib backend: MacOSX\n"
     ]
    }
   ],
   "source": [
    "% matplotlib\n",
    "import numpy as np\n",
    "import matplotlib.pyplot as plt\n",
    "from mpl_toolkits.mplot3d import Axes3D\n",
    "\n",
    "fig = plt.figure(figsize=(10, 10))\n",
    "ax = fig.add_subplot(1, 1, 1, projection='3d')\n",
    "# range\n",
    "u = np.linspace(-2, 2, 60)\n",
    "v = np.linspace(np.pi, 5/2*np.pi, 100)\n",
    "U, V = np.meshgrid(u, v)\n",
    "X = U\n",
    "# first funct\n",
    "Y1 = (U**2 + 1)*np.cos(V)\n",
    "Z1 = (U**2 + 1)*np.sin(V)\n",
    "# 2nd funct\n",
    "Y2 = (1)*np.cos(V)\n",
    "Z2 = (1)*np.sin(V)\n",
    "ax.plot_surface(X, Y1, Z1, alpha=0.3, color='red', rstride=3, cstride=3)\n",
    "ax.plot_surface(X, Y2, Z2, alpha=0.4, color='blue', rstride=6, cstride=3)\n",
    "plt.show()"
   ]
  }
 ],
 "metadata": {
  "anaconda-cloud": {},
  "kernelspec": {
   "display_name": "Python [default]",
   "language": "python",
   "name": "python3"
  },
  "language_info": {
   "codemirror_mode": {
    "name": "ipython",
    "version": 3
   },
   "file_extension": ".py",
   "mimetype": "text/x-python",
   "name": "python",
   "nbconvert_exporter": "python",
   "pygments_lexer": "ipython3",
   "version": "3.5.2"
  }
 },
 "nbformat": 4,
 "nbformat_minor": 1
}
