{
 "cells": [
  {
   "cell_type": "code",
   "execution_count": 1,
   "metadata": {
    "collapsed": false
   },
   "outputs": [
    {
     "name": "stdout",
     "output_type": "stream",
     "text": [
      "Using matplotlib backend: MacOSX\n"
     ]
    }
   ],
   "source": [
    "%matplotlib\n",
    "import numpy as np\n",
    "import matplotlib.pyplot as plt\n",
    "from mpl_toolkits.mplot3d import Axes3D\n",
    "\n",
    "fig = plt.figure()\n",
    "ax = fig.add_subplot(1, 1, 1, projection='3d')\n",
    "# range\n",
    "minv=-10\n",
    "maxv=10\n",
    "\n",
    "# parallel vector\n",
    "V = dict(x=18, y=-6, z=-2)\n",
    "# pass-through point\n",
    "r = dict(x=-6, y=4, z=1)\n",
    "\n",
    "# t offset from position vector\n",
    "t = np.linspace(-1/2, 1)\n",
    "\n",
    "# vectors from origin\n",
    "ax.quiver(t*0, t*0, t*0, r['x'] + V['x']*t, r['y'] + V['y']*t, r['z'] + V['z']*t, pivot='tail', normalize=False, arrow_length_ratio=0.1)\n",
    "\n",
    "# draw line using parametric equations\n",
    "x = -6 + 18*t\n",
    "y = 4 - 6*t\n",
    "z = 1 - 2*t\n",
    "ax.plot(x, y, z)\n",
    "\n",
    "i = np.linspace(minv, maxv)\n",
    "j = np.linspace(minv, maxv)\n",
    "\n",
    "I, J = np.meshgrid(i, i)\n",
    "\n",
    "ax.plot_surface(I, J, j*0, alpha=0.4, color='blue', rstride=6, cstride=3)\n",
    "ax.plot_surface(I, j*0, J, alpha=0.4, color='red', rstride=6, cstride=3)\n",
    "ax.plot_surface(j*0, I, J, alpha=0.4, color='green', rstride=6, cstride=3)\n",
    "\n",
    "#minv /= 2\n",
    "#maxv /= 2\n",
    "ax.set_xlim([minv, maxv])\n",
    "ax.set_ylim([minv, maxv])\n",
    "ax.set_zlim([minv, maxv])\n",
    "\n",
    "ax.set_xlabel('X-axis')\n",
    "ax.set_ylabel('Y-axis')\n",
    "ax.set_zlabel('Z-axis')\n",
    "\n",
    "plt.show()\n"
   ]
  },
  {
   "cell_type": "code",
   "execution_count": null,
   "metadata": {
    "collapsed": true
   },
   "outputs": [],
   "source": []
  }
 ],
 "metadata": {
  "anaconda-cloud": {},
  "kernelspec": {
   "display_name": "Python 3",
   "language": "python",
   "name": "python3"
  },
  "language_info": {
   "codemirror_mode": {
    "name": "ipython",
    "version": 3
   },
   "file_extension": ".py",
   "mimetype": "text/x-python",
   "name": "python",
   "nbconvert_exporter": "python",
   "pygments_lexer": "ipython3",
   "version": "3.6.0"
  }
 },
 "nbformat": 4,
 "nbformat_minor": 1
}
