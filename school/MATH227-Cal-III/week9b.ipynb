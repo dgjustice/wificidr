{
 "cells": [
  {
   "cell_type": "code",
   "execution_count": 2,
   "metadata": {
    "collapsed": false
   },
   "outputs": [
    {
     "name": "stdout",
     "output_type": "stream",
     "text": [
      "Using matplotlib backend: MacOSX\n"
     ]
    }
   ],
   "source": [
    "%matplotlib\n",
    "import matplotlib.pyplot as plt\n",
    "from scipy import *\n",
    "from scipy import integrate\n",
    "from scipy.integrate import ode\n",
    "import numpy as np\n",
    "\n",
    "fig = plt.figure(num=1)\n",
    "ax=fig.add_subplot(111)\n",
    "\n",
    "\n",
    "x = np.linspace(-5,5)\n",
    "ax.plot(x, ((3*(x**2))+4), linewidth=2.0, label=r\"$3x^2+4$\")\n",
    "ax.plot(x, (x**3)+(4*x), linewidth=2.0, label=r\"$x^3+4x$\")\n",
    "ax.plot(x, (x**3)+(4*x)-10, linewidth=2.0, label=r\"$x^3+4x-10$\")\n",
    "ax.plot(x, (x**3)+(4*x)-20, linewidth=2.0, label=r\"$x^3+4x-20$\")\n",
    "ax.legend(loc=4)\n",
    "ax.set_xlim([-3,3])\n",
    "ax.set_ylim([-40,40])\n",
    "\n",
    "ax.grid()\n",
    "plt.xlabel(r\"$x$\")\n",
    "plt.ylabel(r\"$y$\")\n",
    "plt.show()"
   ]
  },
  {
   "cell_type": "code",
   "execution_count": null,
   "metadata": {
    "collapsed": true
   },
   "outputs": [],
   "source": []
  }
 ],
 "metadata": {
  "anaconda-cloud": {},
  "kernelspec": {
   "display_name": "Python [default]",
   "language": "python",
   "name": "python3"
  },
  "language_info": {
   "codemirror_mode": {
    "name": "ipython",
    "version": 3
   },
   "file_extension": ".py",
   "mimetype": "text/x-python",
   "name": "python",
   "nbconvert_exporter": "python",
   "pygments_lexer": "ipython3",
   "version": "3.5.2"
  }
 },
 "nbformat": 4,
 "nbformat_minor": 1
}
