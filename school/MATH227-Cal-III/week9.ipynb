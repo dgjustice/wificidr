{
 "cells": [
  {
   "cell_type": "code",
   "execution_count": 3,
   "metadata": {
    "collapsed": false
   },
   "outputs": [
    {
     "name": "stdout",
     "output_type": "stream",
     "text": [
      "Using matplotlib backend: MacOSX\n"
     ]
    }
   ],
   "source": [
    "%matplotlib\n",
    "import matplotlib.pyplot as plt\n",
    "from scipy import *\n",
    "from scipy import integrate\n",
    "from scipy.integrate import ode\n",
    "import numpy as np\n",
    "\n",
    "fig = plt.figure(num=1)\n",
    "ax=fig.add_subplot(111)\n",
    "ax.set_ylim([-1,10])\n",
    "\n",
    "def differential(x, y):\n",
    "    # or whatever function we're working with\n",
    "    #return x+(2*y)\n",
    "    return x*y\n",
    "\n",
    "#Vector field\n",
    "X,Y = np.meshgrid( np.linspace(-5,5,20),np.linspace(-1,10,20) )\n",
    "# generate slope field\n",
    "m = differential(X,Y)\n",
    "U = 1/((m**2 + 1)**(1/2))\n",
    "V = m/((m**2 + 1)**(1/2))\n",
    "\n",
    "ax.quiver(X, Y, U, V, pivot='mid', headaxislength=0)\n",
    "ax.grid()\n",
    "\n",
    "z = np.linspace(-5,5)\n",
    "ax.plot(z, np.power(np.e, ((z**2)/2)), linewidth=2.0)\n",
    "ax.plot(z, np.power(np.e, ((z**2)/2)-1), linewidth=2.0)\n",
    "ax.plot(z, np.power(np.e, ((z**2)/2)-2), linewidth=2.0)\n",
    "ax.plot(z, np.power(np.e, ((z**2)/2)-4), linewidth=2.0)\n",
    "ax.plot(z, np.power(np.e, ((z**2)/2)-5), linewidth=2.0)\n",
    "\n",
    "plt.xlabel(r\"$x$\")\n",
    "plt.ylabel(r\"$y$\")\n",
    "plt.show()"
   ]
  },
  {
   "cell_type": "code",
   "execution_count": null,
   "metadata": {
    "collapsed": true
   },
   "outputs": [],
   "source": []
  }
 ],
 "metadata": {
  "anaconda-cloud": {},
  "kernelspec": {
   "display_name": "Python [default]",
   "language": "python",
   "name": "python3"
  },
  "language_info": {
   "codemirror_mode": {
    "name": "ipython",
    "version": 3
   },
   "file_extension": ".py",
   "mimetype": "text/x-python",
   "name": "python",
   "nbconvert_exporter": "python",
   "pygments_lexer": "ipython3",
   "version": "3.5.2"
  }
 },
 "nbformat": 4,
 "nbformat_minor": 1
}
