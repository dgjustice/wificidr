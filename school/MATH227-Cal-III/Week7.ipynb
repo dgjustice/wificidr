{
 "cells": [
  {
   "cell_type": "code",
   "execution_count": 42,
   "metadata": {
    "collapsed": false
   },
   "outputs": [
    {
     "name": "stdout",
     "output_type": "stream",
     "text": [
      "Using matplotlib backend: MacOSX\n"
     ]
    }
   ],
   "source": [
    "%matplotlib\n",
    "import matplotlib.pyplot as plt\n",
    "\n",
    "# set up the figure\n",
    "fig = plt.figure()\n",
    "ax = fig.add_subplot(111)\n",
    "ax.set_xlim(-10,10)\n",
    "ax.set_ylim(-10,10)\n",
    "\n",
    "# draw lines\n",
    "xmin = -4\n",
    "xmax = 4\n",
    "y = 0\n",
    "height = 1\n",
    "\n",
    "#plt.hlines(y, xmin, xmax)\n",
    "plt.annotate(s='', xy=(xmax,0), xytext=(xmin,0), arrowprops=dict(arrowstyle='<->'))\n",
    "#plt.vlines(xmin, y - height / 2., y + height / 2.)\n",
    "#plt.vlines(xmax, y - height / 2., y + height / 2.)\n",
    "\n",
    "# draw a point on the line\n",
    "c = 0\n",
    "plt.plot(0,0, label=r\"Series $\\sum_{n=1}^{\\infty}n^nx^n$\")\n",
    "plt.plot(c, y, '.', ms=15, mfc='r')\n",
    "plt.grid()\n",
    "\n",
    "# add an arrow\n",
    "plt.annotate('R=0, interval [0,0], c=0', (c,y), xytext = (c-1, y+1), \n",
    "             arrowprops=dict(facecolor='black', shrink=0.1), \n",
    "             horizontalalignment='right')\n",
    "\n",
    "plt.text(c, y-0.2, '[', horizontalalignment='right')\n",
    "plt.text(c, y-0.2, ']', horizontalalignment='left')\n",
    "plt.legend()\n",
    "\n",
    "# plt.axis('off')\n",
    "plt.show()"
   ]
  },
  {
   "cell_type": "code",
   "execution_count": 43,
   "metadata": {
    "collapsed": false
   },
   "outputs": [
    {
     "name": "stdout",
     "output_type": "stream",
     "text": [
      "Using matplotlib backend: MacOSX\n"
     ]
    }
   ],
   "source": [
    "%matplotlib\n",
    "import matplotlib.pyplot as plt\n",
    "\n",
    "# set up the figure\n",
    "fig = plt.figure()\n",
    "ax = fig.add_subplot(111)\n",
    "ax.set_xlim(-10,10)\n",
    "ax.set_ylim(-10,10)\n",
    "\n",
    "# draw lines\n",
    "xmin = -4\n",
    "xmax = 4\n",
    "y = 0\n",
    "height = 1\n",
    "\n",
    "plt.annotate(s='', xy=(-10,0), xytext=(10,0), arrowprops=dict(arrowstyle='<->'))\n",
    "\n",
    "# draw a point on the line\n",
    "c = 0\n",
    "plt.plot(0,0, label=r\"Series $\\sum_{n=1}^{\\infty}\\frac{x^n}{n^n}$\")\n",
    "plt.plot(c, y, '.', ms=15, mfc='r')\n",
    "plt.grid()\n",
    "\n",
    "# add an arrow\n",
    "plt.annotate(r'$R=\\infty, interval (-\\infty,\\infty)$, c=0', (c,y), xytext = (c-1, y+1), \n",
    "             arrowprops=dict(facecolor='black', shrink=0.1), \n",
    "             horizontalalignment='right')\n",
    "\n",
    "#plt.text(c, y-0.2, '[', horizontalalignment='right')\n",
    "#plt.text(c, y-0.2, ']', horizontalalignment='left')\n",
    "plt.legend()\n",
    "\n",
    "# plt.axis('off')\n",
    "plt.show()"
   ]
  },
  {
   "cell_type": "code",
   "execution_count": 44,
   "metadata": {
    "collapsed": false
   },
   "outputs": [
    {
     "name": "stdout",
     "output_type": "stream",
     "text": [
      "Using matplotlib backend: MacOSX\n"
     ]
    }
   ],
   "source": [
    "%matplotlib\n",
    "import matplotlib.pyplot as plt\n",
    "\n",
    "# set up the figure\n",
    "fig = plt.figure()\n",
    "ax = fig.add_subplot(111)\n",
    "ax.set_xlim(-10,10)\n",
    "ax.set_ylim(-10,10)\n",
    "\n",
    "# draw lines\n",
    "xmin = -4\n",
    "xmax = 4\n",
    "y = 0\n",
    "height = 1\n",
    "\n",
    "plt.annotate(s='', xy=(xmax,0), xytext=(xmin,0), arrowprops=dict(arrowstyle='<->'))\n",
    "\n",
    "# draw a point on the line\n",
    "c = 1\n",
    "plt.plot(0,0, label=r\"Series $\\sum_{n=1}^{\\infty}\\frac{(x-1)^n}{ln(n+1)}$\")\n",
    "plt.plot(c, y, '.', ms=15, mfc='r')\n",
    "plt.grid()\n",
    "\n",
    "# add an arrow\n",
    "plt.annotate(r'$R=1, interval (0,2], c=1$', (c,y), xytext = (c-2, y+2), \n",
    "             arrowprops=dict(facecolor='black', shrink=0.01), \n",
    "             horizontalalignment='right')\n",
    "\n",
    "plt.text(c-1, y-0.2, '(', horizontalalignment='right')\n",
    "plt.text(c+1, y-0.2, ']', horizontalalignment='left')\n",
    "plt.legend()\n",
    "\n",
    "# plt.axis('off')\n",
    "plt.show()"
   ]
  },
  {
   "cell_type": "code",
   "execution_count": null,
   "metadata": {
    "collapsed": true
   },
   "outputs": [],
   "source": []
  },
  {
   "cell_type": "code",
   "execution_count": null,
   "metadata": {
    "collapsed": true
   },
   "outputs": [],
   "source": []
  }
 ],
 "metadata": {
  "anaconda-cloud": {},
  "kernelspec": {
   "display_name": "Python [default]",
   "language": "python",
   "name": "python3"
  },
  "language_info": {
   "codemirror_mode": {
    "name": "ipython",
    "version": 3
   },
   "file_extension": ".py",
   "mimetype": "text/x-python",
   "name": "python",
   "nbconvert_exporter": "python",
   "pygments_lexer": "ipython3",
   "version": "3.5.2"
  }
 },
 "nbformat": 4,
 "nbformat_minor": 1
}
