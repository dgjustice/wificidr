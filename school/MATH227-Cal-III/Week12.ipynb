{
 "cells": [
  {
   "cell_type": "code",
   "execution_count": 5,
   "metadata": {
    "collapsed": false
   },
   "outputs": [
    {
     "name": "stdout",
     "output_type": "stream",
     "text": [
      "Using matplotlib backend: Qt5Agg\n"
     ]
    }
   ],
   "source": [
    "%matplotlib\n",
    "import numpy as np\n",
    "import matplotlib.pyplot as plt\n",
    "\n",
    "ax = plt.subplot(111, projection='polar')\n",
    "\n",
    "theta = np.arange(0, 2*np.pi, 0.01)\n",
    "r = np.sin(3*theta)\n",
    "\n",
    "def differential(theta, r):\n",
    "    # or whatever function we're working with\n",
    "    #return x+(2*y)\n",
    "    # y = sin t sin 3t\n",
    "    # x = cos t sin 3t\n",
    "    dy = np.sin(theta)*3*np.cos(3*theta) + np.sin(3*theta)*np.cos(theta)\n",
    "    dx = np.cos(theta)*3*np.cos(3*theta) - np.sin(3*theta)*np.sin(theta)\n",
    "    return dy, dx\n",
    "\n",
    "dy, dx = differential(theta, r)\n",
    "\n",
    "# dr * cos(theta) - dt * sin (theta), dr * sin(theta) + dt * cos(theta))\n",
    "ax.quiver(theta, r, dy, dx, pivot='mid')\n",
    "\n",
    "#ax = plt.subplot(311, projection='polar')\n",
    "t1 = np.arange(0, 2*np.pi, 0.01)\n",
    "r1 = np.sin(3*t1)\n",
    "ax.plot(t1, r1, color='blue')\n",
    "\n",
    "#ax = plt.subplot(312, projection='polar')\n",
    "t2 = np.arange(np.pi/3, 2*np.pi, 0.01)\n",
    "r2 = np.sin(3*t2)\n",
    "ax.plot(t2, r2, color='red')\n",
    "\n",
    "# #ax = plt.subplot(313, projection='polar')\n",
    "t3 = np.arange(2*np.pi/3, np.pi, 0.01)\n",
    "r3 = np.sin(3*t3)\n",
    "ax.plot(t3, r3, color='green')\n",
    "\n",
    "ax.set_rmax(1.2)\n",
    "ax.set_rticks([0.5, 1])  # less radial ticks\n",
    "ax.set_rlabel_position(-22.5)  # get radial labels away from plotted line\n",
    "ax.grid(True)\n",
    "\n",
    "#ax.set_title(r\"$r=sin(3\\theta)$\", va='bottom')\n",
    "plt.show()"
   ]
  },
  {
   "cell_type": "code",
   "execution_count": null,
   "metadata": {
    "collapsed": true
   },
   "outputs": [],
   "source": []
  }
 ],
 "metadata": {
  "anaconda-cloud": {},
  "kernelspec": {
   "display_name": "Python [default]",
   "language": "python",
   "name": "python3"
  },
  "language_info": {
   "codemirror_mode": {
    "name": "ipython",
    "version": 3
   },
   "file_extension": ".py",
   "mimetype": "text/x-python",
   "name": "python",
   "nbconvert_exporter": "python",
   "pygments_lexer": "ipython3",
   "version": "3.5.2"
  }
 },
 "nbformat": 4,
 "nbformat_minor": 1
}
