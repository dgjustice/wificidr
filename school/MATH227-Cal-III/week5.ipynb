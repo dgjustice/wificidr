{
 "cells": [
  {
   "cell_type": "code",
   "execution_count": 4,
   "metadata": {
    "collapsed": false
   },
   "outputs": [
    {
     "name": "stdout",
     "output_type": "stream",
     "text": [
      "Using matplotlib backend: Qt5Agg\n",
      "[ 0.36787944  0.36787944  0.36787944  0.36787944  0.36787944  0.36787944\n",
      "  0.36787944  0.36787944  0.36787944  0.36787944  0.36787944  0.36787944\n",
      "  0.36787944  0.36787944  0.36787944  0.36787944  0.36787944  0.36787944\n",
      "  0.36787944  0.36787944  0.36787944  0.36787944  0.36787944  0.36787944\n",
      "  0.36787944  0.36787944  0.36787944  0.36787944  0.36787944]\n"
     ]
    }
   ],
   "source": [
    "%matplotlib\n",
    "# a stacked bar plot with errorbars\n",
    "import numpy as np\n",
    "import matplotlib.pyplot as plt\n",
    "\n",
    "f, (ax1,ax2) = plt.subplots(2, 1)\n",
    "\n",
    "x = np.arange(1,20)\n",
    "y = np.arange(1,20)\n",
    "y.fill(np.e)\n",
    "z = x/np.power(y, x)\n",
    "\n",
    "p1 = ax1.bar(x, z, 1/1.5, color='blue')\n",
    "ax1.bar(x, np.cumsum(z), alpha=0.2, color=\"black\")\n",
    "ax1.legend((p1[0],), (r'$\\frac{n}{e^n}$',), loc=4)\n",
    "\n",
    "y1 = np.arange(1,20)\n",
    "y1.fill(np.e)\n",
    "ax1.set_ylim([0,2.2])\n",
    "ax1.plot(x, y1, color=\"red\")\n",
    "\n",
    "x = np.arange(1,30)\n",
    "y1 = np.arange(1,30, dtype=float)\n",
    "y1.fill(1.0/np.e)\n",
    "print(y1)\n",
    "z = (x+1)/(np.e*x)\n",
    "p2 = ax2.bar(x, z, 1/1.5, color='blue')\n",
    "ax2.legend((p2[0],), (r'$\\frac{n+1}{en}$',), loc=4)\n",
    "\n",
    "#ax2.set_ylim([0,2.5])\n",
    "ax2.plot(x, y1, color=\"red\")\n",
    "\n",
    "\n",
    "plt.show()\n"
   ]
  },
  {
   "cell_type": "code",
   "execution_count": null,
   "metadata": {
    "collapsed": true
   },
   "outputs": [],
   "source": []
  }
 ],
 "metadata": {
  "anaconda-cloud": {},
  "kernelspec": {
   "display_name": "Python [default]",
   "language": "python",
   "name": "python3"
  },
  "language_info": {
   "codemirror_mode": {
    "name": "ipython",
    "version": 3
   },
   "file_extension": ".py",
   "mimetype": "text/x-python",
   "name": "python",
   "nbconvert_exporter": "python",
   "pygments_lexer": "ipython3",
   "version": "3.5.2"
  }
 },
 "nbformat": 4,
 "nbformat_minor": 1
}
