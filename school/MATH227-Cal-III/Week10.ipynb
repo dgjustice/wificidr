{
 "cells": [
  {
   "cell_type": "code",
   "execution_count": null,
   "metadata": {
    "collapsed": true
   },
   "outputs": [],
   "source": []
  },
  {
   "cell_type": "code",
   "execution_count": 6,
   "metadata": {
    "collapsed": false
   },
   "outputs": [
    {
     "name": "stdout",
     "output_type": "stream",
     "text": [
      "Using matplotlib backend: MacOSX\n"
     ]
    }
   ],
   "source": [
    "%matplotlib\n",
    "import matplotlib.pyplot as plt\n",
    "import numpy as np\n",
    "\n",
    "fig = plt.figure(num=1)\n",
    "ax=fig.add_subplot(111)\n",
    "\n",
    "\n",
    "x = np.linspace(0,50)\n",
    "ax.plot(x, 3/(2**(x/30)), label=r\"$P(t)=\\frac{3}{2^{\\frac{t}{30}}}$\")\n",
    "\n",
    "ax.legend(loc=1)\n",
    "ax.set_xlim([-1,50])\n",
    "ax.set_ylim([0.5,3.2])\n",
    "\n",
    "ax.grid()\n",
    "plt.xlabel(r\"$t\\ in\\ years$\")\n",
    "plt.ylabel(r\"$kg\\ remaining$\")\n",
    "plt.show()"
   ]
  },
  {
   "cell_type": "code",
   "execution_count": null,
   "metadata": {
    "collapsed": true
   },
   "outputs": [],
   "source": []
  }
 ],
 "metadata": {
  "anaconda-cloud": {},
  "kernelspec": {
   "display_name": "Python [default]",
   "language": "python",
   "name": "python3"
  },
  "language_info": {
   "codemirror_mode": {
    "name": "ipython",
    "version": 3
   },
   "file_extension": ".py",
   "mimetype": "text/x-python",
   "name": "python",
   "nbconvert_exporter": "python",
   "pygments_lexer": "ipython3",
   "version": "3.5.2"
  }
 },
 "nbformat": 4,
 "nbformat_minor": 1
}
