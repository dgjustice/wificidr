{
 "cells": [
  {
   "cell_type": "code",
   "execution_count": 70,
   "metadata": {
    "collapsed": false
   },
   "outputs": [
    {
     "name": "stdout",
     "output_type": "stream",
     "text": [
      "Using matplotlib backend: MacOSX\n"
     ]
    }
   ],
   "source": [
    "%matplotlib\n",
    "# a stacked bar plot with errorbars\n",
    "import numpy as np\n",
    "import matplotlib.pyplot as plt\n",
    "\n",
    "f, (ax1, ax2) = plt.subplots(2, 1)\n",
    "\n",
    "x = np.arange(1,20)\n",
    "y = np.arange(1,20)\n",
    "y.fill(-1)\n",
    "z = np.power(y,(x+1))/(x**2)\n",
    "#ax1.set_ylim(-1.5, 1.5)\n",
    "p1 = ax1.bar(x, z, 1/1.5, color='blue')\n",
    "ax1.bar(x, np.cumsum(z), alpha=0.2, color=\"black\")\n",
    "ax1.legend((p1[0],), (r'$\\frac{(-1)^{n+1}}{{n^2}}$',), loc=4)\n",
    "\n",
    "\n",
    "x2 = np.arange(2,20)\n",
    "y2 = np.arange(2,20)\n",
    "y2.fill(-1)\n",
    "z2 = (np.power(y2,x2)*(x2**2))/np.log(x2)\n",
    "p2 = ax2.bar(x2, z2, 1/1.5, color='red')\n",
    "ax2.bar(x2, np.cumsum(z2), alpha=0.5, color=\"black\")\n",
    "\n",
    "ax2.legend((p2[0],), (r'$\\frac{(-1)^{n+1}{n^2}}{ln(n)}$',), loc=0)\n",
    "\n",
    "plt.show()\n"
   ]
  },
  {
   "cell_type": "markdown",
   "metadata": {},
   "source": []
  }
 ],
 "metadata": {
  "anaconda-cloud": {},
  "kernelspec": {
   "display_name": "Python [default]",
   "language": "python",
   "name": "python3"
  },
  "language_info": {
   "codemirror_mode": {
    "name": "ipython",
    "version": 3
   },
   "file_extension": ".py",
   "mimetype": "text/x-python",
   "name": "python",
   "nbconvert_exporter": "python",
   "pygments_lexer": "ipython3",
   "version": "3.5.2"
  }
 },
 "nbformat": 4,
 "nbformat_minor": 1
}
