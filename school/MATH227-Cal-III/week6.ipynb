{
 "cells": [
  {
   "cell_type": "code",
   "execution_count": 65,
   "metadata": {
    "collapsed": false
   },
   "outputs": [
    {
     "name": "stdout",
     "output_type": "stream",
     "text": [
      "Using matplotlib backend: MacOSX\n"
     ]
    }
   ],
   "source": [
    "%matplotlib\n",
    "# a stacked bar plot with errorbars\n",
    "import numpy as np\n",
    "import matplotlib.pyplot as plt\n",
    "\n",
    "f, ax1 = plt.subplots(1, 1)\n",
    "col = ['red', 'green', 'blue']\n",
    "\n",
    "# Create the base line-space\n",
    "x = np.linspace(0,2)\n",
    "\n",
    "ax1.set_ylim(0,20)\n",
    "# Show the grid\n",
    "ax1.grid()\n",
    "# plot e^2x\n",
    "ax1.plot(x, np.power(np.e, x*2), color=\"black\", label=r\"$e^{2x}$\", linewidth=4.0)\n",
    "\n",
    "# c for the taylor series\n",
    "c=1\n",
    "# I used a double loop since each graph is additive\n",
    "# outer loop for ith term in the series\n",
    "for i in range(1, 4):\n",
    "    z = np.linspace(0,2)\n",
    "    z.fill(np.power(np.e, 2))\n",
    "    # inner loop add up terms from 1->i\n",
    "    for n in range(1, i+1):\n",
    "        z += ((n*2)*np.power(np.e, 2*c)*(np.power((x-c), n)))/np.math.factorial(n)\n",
    "    # Format string to keep from doing these by hand.  The double brackets are required for 'format'\n",
    "    ax1.plot(x, z, color=col[i-1], label=r\"$\\frac{{{}e^{{2*1}}(x-1)}}{{{}!}}$\".format(str(i*2), str(i)), linewidth=i)\n",
    "\n",
    "ax1.legend(loc=0)\n",
    "plt.show()\n"
   ]
  },
  {
   "cell_type": "code",
   "execution_count": null,
   "metadata": {
    "collapsed": true
   },
   "outputs": [],
   "source": []
  }
 ],
 "metadata": {
  "anaconda-cloud": {},
  "kernelspec": {
   "display_name": "Python [default]",
   "language": "python",
   "name": "python3"
  },
  "language_info": {
   "codemirror_mode": {
    "name": "ipython",
    "version": 3
   },
   "file_extension": ".py",
   "mimetype": "text/x-python",
   "name": "python",
   "nbconvert_exporter": "python",
   "pygments_lexer": "ipython3",
   "version": "3.5.2"
  }
 },
 "nbformat": 4,
 "nbformat_minor": 1
}
