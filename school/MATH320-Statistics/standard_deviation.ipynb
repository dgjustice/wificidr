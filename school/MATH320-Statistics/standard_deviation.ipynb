{
 "cells": [
  {
   "cell_type": "code",
   "execution_count": 47,
   "metadata": {},
   "outputs": [
    {
     "name": "stdout",
     "output_type": "stream",
     "text": [
      "17.0782512766\n",
      "6.45497224368\n"
     ]
    }
   ],
   "source": [
    "import numpy as np\n",
    "# I know these are all standard functions. This is a learning exercise for me, \n",
    "# not a new library.  :-)\n",
    "\n",
    "class Population(object):\n",
    "    @classmethod\n",
    "    def mean(cls, data):\n",
    "        return data.sum() / len(data)\n",
    "\n",
    "    @classmethod\n",
    "    def variance(cls, data):\n",
    "        return np.sum((data - cls.mean(data))**2) / len(data)\n",
    "\n",
    "    @classmethod\n",
    "    def standard_deviation(cls, data):\n",
    "        return np.sqrt(cls.variance(data))\n",
    "\n",
    "data = np.array([10, 60, 50, 30, 40, 20])\n",
    "print(Population.standard_deviation(data))\n",
    "\n",
    "data = np.array([35, 45, 30, 35, 40, 25])\n",
    "print(Population.standard_deviation(data))"
   ]
  },
  {
   "cell_type": "code",
   "execution_count": 48,
   "metadata": {},
   "outputs": [
    {
     "name": "stdout",
     "output_type": "stream",
     "text": [
      "8.5\n",
      "13.1\n",
      "3.61939221417\n"
     ]
    }
   ],
   "source": [
    "class Sample(Population):\n",
    "    @classmethod\n",
    "    def variance(cls, data):\n",
    "        return np.sum((data - cls.mean(data))**2) / (len(data) - 1)\n",
    "\n",
    "data = np.array([9, 10, 14, 7, 8, 3])\n",
    "print(Sample.mean(data))\n",
    "print(Sample.variance(data))\n",
    "print(Sample.standard_deviation(data))"
   ]
  },
  {
   "cell_type": "code",
   "execution_count": 49,
   "metadata": {},
   "outputs": [
    {
     "name": "stdout",
     "output_type": "stream",
     "text": [
      "24.5\n",
      "68.6842105263\n",
      "8.2875937718\n"
     ]
    }
   ],
   "source": [
    "import numpy as np\n",
    "\n",
    "class GroupedSample(object):\n",
    "    @classmethod\n",
    "    def mean(cls, data):\n",
    "        return np.sum(data[:,0] * data[:,1]) / np.sum(data[:,0])\n",
    "\n",
    "    @classmethod\n",
    "    def variance(cls, data):\n",
    "        freq = data[:,0]\n",
    "        n_freq = np.sum(freq)\n",
    "        sum_freq_x_mid = np.sum(freq * data[:,1])\n",
    "        sum_freq_x_mid_sq = np.sum(freq * (data[:,1]**2))\n",
    "        return (n_freq * sum_freq_x_mid_sq - sum_freq_x_mid**2) / (n_freq * (n_freq - 1))\n",
    "\n",
    "    @classmethod\n",
    "    def standard_deviation(cls, data):\n",
    "        return np.sqrt(cls.variance(data))\n",
    "\n",
    "# 2D array of [frequency, midpoint] per group or class of data\n",
    "data = np.array([[1, 8], [2, 13], [3, 18], [5, 23], [4, 28], [3, 33], [2, 38]])\n",
    "print(GroupedSample.mean(data))\n",
    "print(GroupedSample.variance(data))\n",
    "print(GroupedSample.standard_deviation(data))"
   ]
  },
  {
   "cell_type": "code",
   "execution_count": 64,
   "metadata": {},
   "outputs": [
    {
     "name": "stdout",
     "output_type": "stream",
     "text": [
      "Using matplotlib backend: Qt5Agg\n"
     ]
    }
   ],
   "source": [
    "%matplotlib\n",
    "\n",
    "#from mpl_toolkits.mplot3d import axes3d\n",
    "import matplotlib.pyplot as plt\n",
    "import numpy as np\n",
    "\n",
    "fig = plt.figure()\n",
    "ax = fig.gca(projection='3d')\n",
    "\n",
    "# Make the grid\n",
    "x, y, z = [0]*4, [0]*4, [0]*4\n",
    "\n",
    "# Make the direction data for the arrows\n",
    "u, v, w = [2, 1, 17, 17], [1, -2, -4, -4], [-3, 4, 2, 5]\n",
    "\n",
    "ax.quiver(x, y, z, u, v, w, length=0.1, normalize=True)\n",
    "\n",
    "plt.show()\n"
   ]
  }
 ],
 "metadata": {
  "kernelspec": {
   "display_name": "Python 3",
   "language": "python",
   "name": "python3"
  },
  "language_info": {
   "codemirror_mode": {
    "name": "ipython",
    "version": 3
   },
   "file_extension": ".py",
   "mimetype": "text/x-python",
   "name": "python",
   "nbconvert_exporter": "python",
   "pygments_lexer": "ipython3",
   "version": "3.6.2"
  }
 },
 "nbformat": 4,
 "nbformat_minor": 2
}
