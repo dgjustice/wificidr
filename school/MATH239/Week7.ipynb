{
 "cells": [
  {
   "cell_type": "code",
   "execution_count": 54,
   "metadata": {},
   "outputs": [
    {
     "data": {
      "text/html": [
       "<script>\n",
       "code_show=true; \n",
       "function code_toggle() {\n",
       " if (code_show){\n",
       " $('div.input').hide();\n",
       " } else {\n",
       " $('div.input').show();\n",
       " }\n",
       " code_show = !code_show\n",
       "} \n",
       "$( document ).ready(code_toggle);\n",
       "</script>\n",
       "<form action=\"javascript:code_toggle()\"><input type=\"submit\" value=\"Click here to toggle on/off the raw code.\"></form>"
      ],
      "text/plain": [
       "<IPython.core.display.HTML object>"
      ]
     },
     "execution_count": 54,
     "metadata": {},
     "output_type": "execute_result"
    }
   ],
   "source": [
    "from IPython.display import HTML\n",
    "\n",
    "HTML('''<script>\n",
    "code_show=true; \n",
    "function code_toggle() {\n",
    " if (code_show){\n",
    " $('div.input').hide();\n",
    " } else {\n",
    " $('div.input').show();\n",
    " }\n",
    " code_show = !code_show\n",
    "} \n",
    "$( document ).ready(code_toggle);\n",
    "</script>\n",
    "<form action=\"javascript:code_toggle()\"><input type=\"submit\" value=\"Click here to toggle on/off the raw code.\"></form>''')"
   ]
  },
  {
   "cell_type": "code",
   "execution_count": 55,
   "metadata": {},
   "outputs": [
    {
     "data": {
      "text/html": [
       "<div>\n",
       "<style scoped>\n",
       "    .dataframe tbody tr th:only-of-type {\n",
       "        vertical-align: middle;\n",
       "    }\n",
       "\n",
       "    .dataframe tbody tr th {\n",
       "        vertical-align: top;\n",
       "    }\n",
       "\n",
       "    .dataframe thead th {\n",
       "        text-align: right;\n",
       "    }\n",
       "</style>\n",
       "<table border=\"1\" class=\"dataframe\">\n",
       "  <thead>\n",
       "    <tr style=\"text-align: right;\">\n",
       "      <th></th>\n",
       "      <th>No.</th>\n",
       "      <th>Time</th>\n",
       "      <th>Source</th>\n",
       "      <th>Destination</th>\n",
       "      <th>Protocol</th>\n",
       "      <th>Length</th>\n",
       "      <th>Info</th>\n",
       "    </tr>\n",
       "  </thead>\n",
       "  <tbody>\n",
       "    <tr>\n",
       "      <th>0</th>\n",
       "      <td>1</td>\n",
       "      <td>0.000000</td>\n",
       "      <td>18.211.118.21</td>\n",
       "      <td>192.168.1.248</td>\n",
       "      <td>TCP</td>\n",
       "      <td>66</td>\n",
       "      <td>443  &gt;  33100 [ACK] Seq=1 Ack=1 Win=17 Len=0 T...</td>\n",
       "    </tr>\n",
       "    <tr>\n",
       "      <th>1</th>\n",
       "      <td>2</td>\n",
       "      <td>0.000465</td>\n",
       "      <td>18.211.118.21</td>\n",
       "      <td>192.168.1.248</td>\n",
       "      <td>TLSv1.2</td>\n",
       "      <td>122</td>\n",
       "      <td>Application Data</td>\n",
       "    </tr>\n",
       "    <tr>\n",
       "      <th>2</th>\n",
       "      <td>3</td>\n",
       "      <td>0.433247</td>\n",
       "      <td>149.112.112.112</td>\n",
       "      <td>192.168.1.248</td>\n",
       "      <td>TCP</td>\n",
       "      <td>66</td>\n",
       "      <td>443  &gt;  52906 [ACK] Seq=1 Ack=1 Win=588 Len=0 ...</td>\n",
       "    </tr>\n",
       "    <tr>\n",
       "      <th>3</th>\n",
       "      <td>4</td>\n",
       "      <td>0.579567</td>\n",
       "      <td>149.112.112.112</td>\n",
       "      <td>192.168.1.248</td>\n",
       "      <td>TLSv1.2</td>\n",
       "      <td>313</td>\n",
       "      <td>Application Data</td>\n",
       "    </tr>\n",
       "    <tr>\n",
       "      <th>4</th>\n",
       "      <td>5</td>\n",
       "      <td>1.048138</td>\n",
       "      <td>208.85.40.20</td>\n",
       "      <td>192.168.1.248</td>\n",
       "      <td>TCP</td>\n",
       "      <td>66</td>\n",
       "      <td>443  &gt;  42740 [ACK] Seq=1 Ack=1 Win=65535 Len=...</td>\n",
       "    </tr>\n",
       "  </tbody>\n",
       "</table>\n",
       "</div>"
      ],
      "text/plain": [
       "   No.      Time           Source    Destination Protocol  Length  \\\n",
       "0    1  0.000000    18.211.118.21  192.168.1.248      TCP      66   \n",
       "1    2  0.000465    18.211.118.21  192.168.1.248  TLSv1.2     122   \n",
       "2    3  0.433247  149.112.112.112  192.168.1.248      TCP      66   \n",
       "3    4  0.579567  149.112.112.112  192.168.1.248  TLSv1.2     313   \n",
       "4    5  1.048138     208.85.40.20  192.168.1.248      TCP      66   \n",
       "\n",
       "                                                Info  \n",
       "0  443  >  33100 [ACK] Seq=1 Ack=1 Win=17 Len=0 T...  \n",
       "1                                   Application Data  \n",
       "2  443  >  52906 [ACK] Seq=1 Ack=1 Win=588 Len=0 ...  \n",
       "3                                   Application Data  \n",
       "4  443  >  42740 [ACK] Seq=1 Ack=1 Win=65535 Len=...  "
      ]
     },
     "execution_count": 55,
     "metadata": {},
     "output_type": "execute_result"
    }
   ],
   "source": [
    "import pandas as pd\n",
    "import matplotlib.pyplot as plt\n",
    "from math import sqrt\n",
    "from IPython.display import display\n",
    "import numpy as np\n",
    "\n",
    "df = pd.read_csv(\"pcap.csv\")\n",
    "df.head()"
   ]
  },
  {
   "cell_type": "markdown",
   "metadata": {},
   "source": [
    "## Sample correlation\n",
    "\n",
    "Last week, I looked at the \"Length\" variable in relationship to \"Time\".  As I stated before, these do not have a linear relationship (nor any relationship that I can see).  The r-value is 0.066, pretty close to zero.  However, I failed to see the relationship between sequence number (\"No.\") and \"Time\".  It has an r-value of 0.98, very close to 1.  If we look at it's scatter plot, we see a nice linear relationship."
   ]
  },
  {
   "cell_type": "code",
   "execution_count": 56,
   "metadata": {},
   "outputs": [
    {
     "data": {
      "image/png": "[encoded data removed]",
      "text/plain": [
       "<Figure size 432x288 with 1 Axes>"
      ]
     },
     "metadata": {
      "needs_background": "light"
     },
     "output_type": "display_data"
    }
   ],
   "source": [
    "_ = df.plot.scatter(x=\"No.\", y=\"Time\")"
   ]
  },
  {
   "cell_type": "markdown",
   "metadata": {},
   "source": [
    "## Line of best fit\n",
    "\n",
    "Given some sample data, one would be able to predict the time to expect a certain sequence number within a reasonable range.  I have plotted the best fit line out to a value of 40.  You might expect the 40th packet around the 8 second mark according to my data.\n",
    "\n",
    "At first glance, this may appear to be a trivial relationship, but packet captures \"in the wild\" vary wildly depending on the applications being supported by the network.  This type of analysis could be valuable especially when troubleshooting real-time applications such as video or voice traffic."
   ]
  },
  {
   "cell_type": "code",
   "execution_count": 57,
   "metadata": {},
   "outputs": [
    {
     "data": {
      "image/png": "[encoded data removed]",
      "text/plain": [
       "<Figure size 432x288 with 1 Axes>"
      ]
     },
     "metadata": {
      "needs_background": "light"
     },
     "output_type": "display_data"
    }
   ],
   "source": [
    "from matplotlib.pyplot import figure\n",
    "\n",
    "n = len(df)\n",
    "a = ( sum(df[\"Time\"])*sum(df[\"No.\"]**2)-sum(df[\"No.\"])*sum(df[\"No.\"]*df[\"Time\"]) ) / \\\n",
    "    (n * sum(df[\"No.\"]**2) - sum(df[\"No.\"])**2)\n",
    "b = ( n *sum(df[\"No.\"]*df[\"Time\"]) - sum(df[\"No.\"])*sum(df[\"Time\"]) ) / \\\n",
    "    (n * sum(df[\"No.\"]**2) - sum(df[\"No.\"])**2)\n",
    "\n",
    "x = np.array(range(40))\n",
    "_ = df.plot.scatter(x=\"No.\", y=\"Time\")\n",
    "_ = plt.plot(x, a + b * x)\n"
   ]
  },
  {
   "cell_type": "code",
   "execution_count": null,
   "metadata": {},
   "outputs": [],
   "source": []
  }
 ],
 "metadata": {
  "kernelspec": {
   "display_name": "Python 3",
   "language": "python",
   "name": "python3"
  },
  "language_info": {
   "codemirror_mode": {
    "name": "ipython",
    "version": 3
   },
   "file_extension": ".py",
   "mimetype": "text/x-python",
   "name": "python",
   "nbconvert_exporter": "python",
   "pygments_lexer": "ipython3",
   "version": "3.7.5"
  }
 },
 "nbformat": 4,
 "nbformat_minor": 4
}
