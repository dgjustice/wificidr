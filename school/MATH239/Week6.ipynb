{
 "cells": [
  {
   "cell_type": "code",
   "execution_count": 61,
   "metadata": {},
   "outputs": [
    {
     "data": {
      "text/html": [
       "<script>\n",
       "code_show=true; \n",
       "function code_toggle() {\n",
       " if (code_show){\n",
       " $('div.input').hide();\n",
       " } else {\n",
       " $('div.input').show();\n",
       " }\n",
       " code_show = !code_show\n",
       "} \n",
       "$( document ).ready(code_toggle);\n",
       "</script>\n",
       "<form action=\"javascript:code_toggle()\"><input type=\"submit\" value=\"Click here to toggle on/off the raw code.\"></form>"
      ],
      "text/plain": [
       "<IPython.core.display.HTML object>"
      ]
     },
     "execution_count": 61,
     "metadata": {},
     "output_type": "execute_result"
    }
   ],
   "source": [
    "from IPython.display import HTML\n",
    "\n",
    "HTML('''<script>\n",
    "code_show=true; \n",
    "function code_toggle() {\n",
    " if (code_show){\n",
    " $('div.input').hide();\n",
    " } else {\n",
    " $('div.input').show();\n",
    " }\n",
    " code_show = !code_show\n",
    "} \n",
    "$( document ).ready(code_toggle);\n",
    "</script>\n",
    "<form action=\"javascript:code_toggle()\"><input type=\"submit\" value=\"Click here to toggle on/off the raw code.\"></form>''')"
   ]
  },
  {
   "cell_type": "code",
   "execution_count": 62,
   "metadata": {},
   "outputs": [
    {
     "data": {
      "text/html": [
       "<div>\n",
       "<style scoped>\n",
       "    .dataframe tbody tr th:only-of-type {\n",
       "        vertical-align: middle;\n",
       "    }\n",
       "\n",
       "    .dataframe tbody tr th {\n",
       "        vertical-align: top;\n",
       "    }\n",
       "\n",
       "    .dataframe thead th {\n",
       "        text-align: right;\n",
       "    }\n",
       "</style>\n",
       "<table border=\"1\" class=\"dataframe\">\n",
       "  <thead>\n",
       "    <tr style=\"text-align: right;\">\n",
       "      <th></th>\n",
       "      <th>No.</th>\n",
       "      <th>Time</th>\n",
       "      <th>Source</th>\n",
       "      <th>Destination</th>\n",
       "      <th>Protocol</th>\n",
       "      <th>Length</th>\n",
       "      <th>Info</th>\n",
       "    </tr>\n",
       "  </thead>\n",
       "  <tbody>\n",
       "    <tr>\n",
       "      <th>0</th>\n",
       "      <td>1</td>\n",
       "      <td>0.000000</td>\n",
       "      <td>18.211.118.21</td>\n",
       "      <td>192.168.1.248</td>\n",
       "      <td>TCP</td>\n",
       "      <td>66</td>\n",
       "      <td>443  &gt;  33100 [ACK] Seq=1 Ack=1 Win=17 Len=0 T...</td>\n",
       "    </tr>\n",
       "    <tr>\n",
       "      <th>1</th>\n",
       "      <td>2</td>\n",
       "      <td>0.000465</td>\n",
       "      <td>18.211.118.21</td>\n",
       "      <td>192.168.1.248</td>\n",
       "      <td>TLSv1.2</td>\n",
       "      <td>122</td>\n",
       "      <td>Application Data</td>\n",
       "    </tr>\n",
       "    <tr>\n",
       "      <th>2</th>\n",
       "      <td>3</td>\n",
       "      <td>0.433247</td>\n",
       "      <td>149.112.112.112</td>\n",
       "      <td>192.168.1.248</td>\n",
       "      <td>TCP</td>\n",
       "      <td>66</td>\n",
       "      <td>443  &gt;  52906 [ACK] Seq=1 Ack=1 Win=588 Len=0 ...</td>\n",
       "    </tr>\n",
       "    <tr>\n",
       "      <th>3</th>\n",
       "      <td>4</td>\n",
       "      <td>0.579567</td>\n",
       "      <td>149.112.112.112</td>\n",
       "      <td>192.168.1.248</td>\n",
       "      <td>TLSv1.2</td>\n",
       "      <td>313</td>\n",
       "      <td>Application Data</td>\n",
       "    </tr>\n",
       "    <tr>\n",
       "      <th>4</th>\n",
       "      <td>5</td>\n",
       "      <td>1.048138</td>\n",
       "      <td>208.85.40.20</td>\n",
       "      <td>192.168.1.248</td>\n",
       "      <td>TCP</td>\n",
       "      <td>66</td>\n",
       "      <td>443  &gt;  42740 [ACK] Seq=1 Ack=1 Win=65535 Len=...</td>\n",
       "    </tr>\n",
       "  </tbody>\n",
       "</table>\n",
       "</div>"
      ],
      "text/plain": [
       "   No.      Time           Source    Destination Protocol  Length  \\\n",
       "0    1  0.000000    18.211.118.21  192.168.1.248      TCP      66   \n",
       "1    2  0.000465    18.211.118.21  192.168.1.248  TLSv1.2     122   \n",
       "2    3  0.433247  149.112.112.112  192.168.1.248      TCP      66   \n",
       "3    4  0.579567  149.112.112.112  192.168.1.248  TLSv1.2     313   \n",
       "4    5  1.048138     208.85.40.20  192.168.1.248      TCP      66   \n",
       "\n",
       "                                                Info  \n",
       "0  443  >  33100 [ACK] Seq=1 Ack=1 Win=17 Len=0 T...  \n",
       "1                                   Application Data  \n",
       "2  443  >  52906 [ACK] Seq=1 Ack=1 Win=588 Len=0 ...  \n",
       "3                                   Application Data  \n",
       "4  443  >  42740 [ACK] Seq=1 Ack=1 Win=65535 Len=...  "
      ]
     },
     "execution_count": 62,
     "metadata": {},
     "output_type": "execute_result"
    }
   ],
   "source": [
    "import pandas as pd\n",
    "import matplotlib.pyplot as plt\n",
    "from math import sqrt\n",
    "from IPython.display import display\n",
    "import numpy as np\n",
    "\n",
    "df = pd.read_csv(\"pcap.csv\")\n",
    "df.head()"
   ]
  },
  {
   "cell_type": "markdown",
   "metadata": {},
   "source": [
    "## Outliers\n",
    "\n",
    "Up to this point, I have been playing with the Length field.  Outliers are classified by our textbook as \n",
    "\n",
    "$$ x < Q_1 - 1.5(IQR) \\cup Q_3 + 1.5(IQR) < x $$\n",
    "\n",
    "The five number summary from Week 5 is:\n",
    "```\n",
    "First quartile:         66.0\n",
    "Second quartile:        81.5\n",
    "Third quartile:        134.0\n",
    "Range:                 760.0\n",
    "IQR:                    68.0\n",
    "Standard dev:          190.0\n",
    "```"
   ]
  },
  {
   "cell_type": "code",
   "execution_count": 63,
   "metadata": {},
   "outputs": [
    {
     "name": "stdout",
     "output_type": "stream",
     "text": [
      "Outliers:\n",
      "274\n",
      "313\n",
      "320\n",
      "816\n",
      "820\n"
     ]
    }
   ],
   "source": [
    "Q1 = 66.0\n",
    "Q3 = 134.0\n",
    "IQR = 68.0\n",
    "outliers = df.Length[(df.Length < (Q1 - 1.5 * IQR)) | (df.Length > (Q3 + 1.5 * IQR))]\n",
    "print(\"Outliers:\")\n",
    "for v in sorted(outliers):\n",
    "    print(v)"
   ]
  },
  {
   "cell_type": "markdown",
   "metadata": {},
   "source": [
    "If you refer back to the histogram from Week 5, you can see that my data set is heavily skewed to the right.  This was not a \"sampled\" packet capture, so there is nothing here that appears to me out of the ordinary.  However, if this was a typical random sample from a production network, I would definitely be interested to see what was generating all of those small packets!"
   ]
  },
  {
   "cell_type": "markdown",
   "metadata": {},
   "source": [
    "## Boxplot\n",
    "\n",
    "The histogram certainly shows the skewness of the data, but I think the boxplot does an excellent job as well.  Here it is clear that the data points are stacked up near the small values.  It also makes me ponder whether the data points < 400 should be considered true outliers or not."
   ]
  },
  {
   "cell_type": "code",
   "execution_count": 64,
   "metadata": {},
   "outputs": [
    {
     "data": {
      "image/png": "[encoded data removed]",
      "text/plain": [
       "<Figure size 640x480 with 1 Axes>"
      ]
     },
     "metadata": {},
     "output_type": "display_data"
    }
   ],
   "source": [
    "from matplotlib.pyplot import figure\n",
    "figure(num=None, figsize=(8, 6), dpi=80, facecolor='w', edgecolor='k')\n",
    "       \n",
    "df.boxplot(\"Length\")\n",
    "plt.show()"
   ]
  },
  {
   "cell_type": "markdown",
   "metadata": {},
   "source": [
    "## Sample correlation\n",
    "\n",
    "Unfortunately, my data set only has a single \"interesting\" quantitative variable - \"Length\".  The other quantitative variable is \"Time\", but there is nothing mysterious about its values.  However, the show must go on!  Let's use what we have and see if there is any correlation between time and packet length.  😃\n",
    "\n",
    "This scatter plot is all over the place as you might have guessed."
   ]
  },
  {
   "cell_type": "code",
   "execution_count": 65,
   "metadata": {},
   "outputs": [
    {
     "data": {
      "image/png": "[encoded data removed]",
      "text/plain": [
       "<Figure size 432x288 with 1 Axes>"
      ]
     },
     "metadata": {
      "needs_background": "light"
     },
     "output_type": "display_data"
    }
   ],
   "source": [
    "_ = df.plot.scatter(x=\"Length\", y=\"Time\")"
   ]
  },
  {
   "cell_type": "markdown",
   "metadata": {},
   "source": [
    "Here is a nice visualization of the correlations.  Time and Length have a r-value of 0.066, which is no surprise after looking at the scatter plot above.  "
   ]
  },
  {
   "cell_type": "code",
   "execution_count": 66,
   "metadata": {},
   "outputs": [
    {
     "data": {
      "image/png": "[encoded data removed]",
      "text/plain": [
       "<Figure size 640x480 with 2 Axes>"
      ]
     },
     "metadata": {},
     "output_type": "display_data"
    }
   ],
   "source": [
    "import seaborn as sb\n",
    "\n",
    "figure(num=None, figsize=(8, 6), dpi=80, facecolor='w', edgecolor='k')\n",
    "\n",
    "pearsoncorr = df.corr(method='pearson')\n",
    "sb.heatmap(pearsoncorr, \n",
    "            xticklabels=pearsoncorr.columns,\n",
    "            yticklabels=pearsoncorr.columns,\n",
    "            cmap='RdBu_r',\n",
    "            annot=True,\n",
    "            linewidth=0.5)\n",
    "plt.show()"
   ]
  }
 ],
 "metadata": {
  "kernelspec": {
   "display_name": "Python 3",
   "language": "python",
   "name": "python3"
  },
  "language_info": {
   "codemirror_mode": {
    "name": "ipython",
    "version": 3
   },
   "file_extension": ".py",
   "mimetype": "text/x-python",
   "name": "python",
   "nbconvert_exporter": "python",
   "pygments_lexer": "ipython3",
   "version": "3.7.5"
  }
 },
 "nbformat": 4,
 "nbformat_minor": 4
}
