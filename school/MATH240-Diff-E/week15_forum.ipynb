{
 "cells": [
  {
   "cell_type": "markdown",
   "metadata": {},
   "source": [
    "Find the general solution of the system:\n",
    "\n",
    "$$\\frac{dy}{dt}=6x-y$$\n",
    "$$\\frac{dx}{dt}=5x+2y$$\n",
    "\n",
    " $$det(A-\\lambda I)=\\begin{vmatrix} 6-\\lambda & -1\\\\  5 & 2-\\lambda \\end{vmatrix}$$\n",
    "\n",
    "$$det(A-\\lambda I)=\\lambda^2-8\\lambda+18=0$$ \n",
    "\n",
    "Quadratic formula, find roots:\n",
    "$$\\frac{8±\\sqrt{64-4(18)}}{2}$$\n",
    "$$4±\\sqrt{-2}$$\n",
    "$$\\lambda_1=4-i\\sqrt2\\\\ \\lambda_2=4+i\\sqrt2$$\n",
    "\n",
    "Find \"little k's\":\n",
    "$$(a_{11}-\\lambda)k_1+a_{12}k_2\\\\\n",
    "a_{21}k_1+(a_{22}-\\lambda)k_2$$\n",
    "\n",
    "This piece really confused me.  I believe the $a_n$ comes from the original system of equations and λ comes from the roots that we found in the previous step.\n",
    "$$(6-(4-i\\sqrt2))k_1+(-1)k_2=0\\\\\n",
    "5k_1+(2-(4+i\\sqrt2))k_2=0$$\n",
    "\n",
    "$$(2+i\\sqrt2)k_1-k_2=0\\\\\n",
    "5k_1-(2-i\\sqrt2)k_2=0$$\n",
    "\n",
    "From the first line:\n",
    "$$k_2=(2+i\\sqrt2)k_1$$\n",
    "Let $k_1 = 1$:\n",
    "$$K_1=\\begin{vmatrix} k_1\\\\  k_2\\end{vmatrix}$$\n",
    "$$K_1=\\begin{vmatrix} 1\\\\  2+i\\sqrt2\\end{vmatrix}$$\n",
    "$$X_1=\\begin{vmatrix} 1\\\\  2+i\\sqrt2\\end{vmatrix}e^{(2+i\\sqrt2)t}$$\n",
    "\n",
    "From the second line, rinse and repeat:\n",
    "$$K_2=\\begin{vmatrix} 1\\\\  2-i\\sqrt2\\end{vmatrix}$$\n",
    "$$X_2=\\begin{vmatrix} 1\\\\  2-i\\sqrt2\\end{vmatrix}e^{(2-i\\sqrt2)t}$$\n",
    "Finally:\n",
    "$$X=c_1\\begin{vmatrix} 1\\\\  2+i\\sqrt2\\end{vmatrix}e^{(2+i\\sqrt2)t}+c_2\\begin{vmatrix} 1\\\\  2-i\\sqrt2\\end{vmatrix}e^{(2-i\\sqrt2)t}$$\n",
    "\n",
    "Needs massaging since we want real values.\n",
    "\n",
    "Now injecting Euler's formula:\n",
    "$$e^{(2+i\\sqrt2)t}=e^{2t}+e^{\\sqrt2ti}=e^{2t}(\\cos(\\sqrt2t)+i\\sin(\\sqrt2t)$$\n",
    "$$e^{(2-i\\sqrt2)t}=e^{2t}-e^{\\sqrt2ti}=e^{2t}(\\cos(\\sqrt2t)-i\\sin(\\sqrt2t)$$"
   ]
  },
  {
   "cell_type": "code",
   "execution_count": null,
   "metadata": {
    "collapsed": true
   },
   "outputs": [],
   "source": []
  }
 ],
 "metadata": {
  "kernelspec": {
   "display_name": "Python 3",
   "language": "python",
   "name": "python3"
  },
  "language_info": {
   "codemirror_mode": {
    "name": "ipython",
    "version": 3
   },
   "file_extension": ".py",
   "mimetype": "text/x-python",
   "name": "python",
   "nbconvert_exporter": "python",
   "pygments_lexer": "ipython3",
   "version": "3.6.2"
  }
 },
 "nbformat": 4,
 "nbformat_minor": 2
}
