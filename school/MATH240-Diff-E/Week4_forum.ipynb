{
 "cells": [
  {
   "cell_type": "code",
   "execution_count": 51,
   "metadata": {},
   "outputs": [
    {
     "name": "stdout",
     "output_type": "stream",
     "text": [
      "Using matplotlib backend: Qt5Agg\n",
      "inf\n",
      "-0.383764182166\n",
      "-0.499288712259\n",
      "-0.566866230277\n",
      "-0.614813242352\n",
      "-0.652003834238\n",
      "-0.68239076037\n",
      "-0.708082540342\n",
      "-0.730337772446\n",
      "-0.749968278388\n"
     ]
    },
    {
     "name": "stderr",
     "output_type": "stream",
     "text": [
      "C:\\ProgramData\\Anaconda3\\lib\\site-packages\\ipykernel_launcher.py:34: RuntimeWarning: divide by zero encountered in log\n",
      "C:\\ProgramData\\Anaconda3\\lib\\site-packages\\numpy\\core\\function_base.py:128: RuntimeWarning: invalid value encountered in multiply\n",
      "  y = y * step\n",
      "C:\\ProgramData\\Anaconda3\\lib\\site-packages\\ipykernel_launcher.py:37: RuntimeWarning: invalid value encountered in multiply\n",
      "C:\\ProgramData\\Anaconda3\\lib\\site-packages\\numpy\\core\\function_base.py:135: RuntimeWarning: invalid value encountered in add\n",
      "  y += start\n"
     ]
    }
   ],
   "source": [
    "# Problem 2.1 number 5\n",
    "%matplotlib\n",
    "import matplotlib.pyplot as plt\n",
    "import numpy as np\n",
    "\n",
    "xmin = -5\n",
    "xmax = 5\n",
    "ymin = -5\n",
    "ymax = 5\n",
    "grains = 50\n",
    "\n",
    "fig = plt.figure(num=1)\n",
    "ax=fig.add_subplot(111)\n",
    "ax.set_ylim([ymin,ymax])\n",
    "ax.set_xlim([xmin,xmax])\n",
    "\n",
    "def differential(x, y):\n",
    "    # or whatever function we're working with\n",
    "    return ((-2*x+y)**2)-7\n",
    "\n",
    "#Vector field\n",
    "X,Y = np.meshgrid(np.linspace(xmin,xmax,grains),np.linspace(ymin,ymax,grains))\n",
    "# generate slope field\n",
    "m = differential(X,Y)\n",
    "U = 1/((m**2 + 1)**(1/2))\n",
    "V = m/((m**2 + 1)**(1/2))\n",
    "\n",
    "ax.quiver(X, Y, U, V, pivot='mid', headlength=1, headaxislength=1, scale=150)\n",
    "x2 = np.linspace(xmin, xmax, grains*10)\n",
    "\n",
    "_ = [ax.plot(x2, 2*x2+((3+3*c*np.exp(6*x2)))/(1-c*np.exp(6*x2)), linewidth=4.0) for c in range(-100, 0, 10)]\n",
    "\n",
    "for c in range(0, 100, 10):\n",
    "    nan = (-1*np.log(c))/6\n",
    "    print(nan)\n",
    "    x2 = np.linspace(xmin, nan-0.001)\n",
    "    ax.plot(x2, 2*x2+((3+3*c*np.exp(6*x2)))/(1-c*np.exp(6*x2)), linewidth=4.0)\n",
    "    x3 = np.linspace(nan+0.001 , xmax)\n",
    "    ax.plot(x3, 2*x3+((3+3*c*np.exp(6*x3)))/(1-c*np.exp(6*x3)), linewidth=4.0)\n",
    "    \n",
    "x4 = np.linspace(xmin, xmax, grains)\n",
    "\n",
    "ax.plot(x4, (2*x4)+3, linewidth=5.0)\n",
    "ax.plot(x4, (2*x4)-3, linewidth=5.0)\n",
    "\n",
    "ax.grid()\n",
    "\n",
    "plt.xlabel(r\"$x$\")\n",
    "plt.ylabel(r\"$y$\")\n",
    "plt.show()"
   ]
  },
  {
   "cell_type": "code",
   "execution_count": 39,
   "metadata": {},
   "outputs": [
    {
     "data": {
      "text/plain": [
       "0.0"
      ]
     },
     "execution_count": 39,
     "metadata": {},
     "output_type": "execute_result"
    }
   ],
   "source": []
  },
  {
   "cell_type": "code",
   "execution_count": null,
   "metadata": {
    "collapsed": true
   },
   "outputs": [],
   "source": []
  }
 ],
 "metadata": {
  "kernelspec": {
   "display_name": "Python 3",
   "language": "python",
   "name": "python3"
  },
  "language_info": {
   "codemirror_mode": {
    "name": "ipython",
    "version": 3
   },
   "file_extension": ".py",
   "mimetype": "text/x-python",
   "name": "python",
   "nbconvert_exporter": "python",
   "pygments_lexer": "ipython3",
   "version": "3.6.1"
  }
 },
 "nbformat": 4,
 "nbformat_minor": 2
}
