{
 "cells": [
  {
   "cell_type": "code",
   "execution_count": 2,
   "metadata": {},
   "outputs": [
    {
     "data": {
      "image/png": "[encoded data removed]",
      "text/latex": [
       "$$\\begin{cases} t \\left(t - 2\\right) & \\text{for}\\: s^{3} = 0 \\\\\\frac{1}{s^{2}} \\left(- 2 s t + 2 s - 2\\right) e^{- s t} & \\text{otherwise} \\end{cases}$$"
      ],
      "text/plain": [
       "⎧                               3    \n",
       "⎪       t⋅(t - 2)          for s  = 0\n",
       "⎪                                    \n",
       "⎪                    -s⋅t            \n",
       "⎨(-2⋅s⋅t + 2⋅s - 2)⋅ℯ                \n",
       "⎪────────────────────────  otherwise \n",
       "⎪            2                       \n",
       "⎪           s                        \n",
       "⎩                                    "
      ]
     },
     "execution_count": 2,
     "metadata": {},
     "output_type": "execute_result"
    }
   ],
   "source": [
    "from sympy import *\n",
    "init_printing(use_unicode=True)\n",
    "x, y, s, t = symbols(\"x y s t\")\n",
    "\n",
    "integrate(exp(-1 * s * t) * (2 * t - 2), t).simplify()"
   ]
  },
  {
   "cell_type": "code",
   "execution_count": 12,
   "metadata": {},
   "outputs": [
    {
     "data": {
      "image/png": "[encoded data removed]",
      "text/latex": [
       "$$\\begin{cases} \\frac{t}{3} \\left(- 4 t^{2} + 24 t + 27\\right) & \\text{for}\\: s^{6} = 0 \\\\\\frac{1}{s^{3}} \\left(4 s^{2} t^{2} - 16 s^{2} t - 9 s^{2} + 8 s t - 16 s + 8\\right) e^{- s t} & \\text{otherwise} \\end{cases}$$"
      ],
      "text/plain": [
       "⎧                ⎛     2            ⎞                           \n",
       "⎪              t⋅⎝- 4⋅t  + 24⋅t + 27⎠                      6    \n",
       "⎪              ──────────────────────                 for s  = 0\n",
       "⎪                        3                                      \n",
       "⎪                                                               \n",
       "⎨⎛   2  2       2        2                   ⎞  -s⋅t            \n",
       "⎪⎝4⋅s ⋅t  - 16⋅s ⋅t - 9⋅s  + 8⋅s⋅t - 16⋅s + 8⎠⋅ℯ                \n",
       "⎪───────────────────────────────────────────────────  otherwise \n",
       "⎪                          3                                    \n",
       "⎪                         s                                     \n",
       "⎩                                                               "
      ]
     },
     "execution_count": 12,
     "metadata": {},
     "output_type": "execute_result"
    }
   ],
   "source": [
    "integrate(exp(-1 * s * t) * (-4 * t**2 + 16 * t + 9), t).simplify()"
   ]
  },
  {
   "cell_type": "code",
   "execution_count": 13,
   "metadata": {},
   "outputs": [
    {
     "data": {
      "image/png": "[encoded data removed]",
      "text/latex": [
       "$$\\begin{cases} t + \\frac{e^{4 t}}{4} & \\text{for}\\: s = 0 \\\\t - \\frac{1}{4} e^{- 4 t} & \\text{for}\\: s = 4 \\\\\\frac{e^{- s t}}{s \\left(s - 4\\right)} \\left(- s e^{4 t} - s + 4\\right) & \\text{otherwise} \\end{cases}$$"
      ],
      "text/plain": [
       "⎧             4⋅t                   \n",
       "⎪            ℯ                      \n",
       "⎪        t + ────          for s = 0\n",
       "⎪             4                     \n",
       "⎪                                   \n",
       "⎪            -4⋅t                   \n",
       "⎪           ℯ                       \n",
       "⎨       t - ─────          for s = 4\n",
       "⎪             4                     \n",
       "⎪                                   \n",
       "⎪⎛     4⋅t        ⎞  -s⋅t           \n",
       "⎪⎝- s⋅ℯ    - s + 4⎠⋅ℯ               \n",
       "⎪────────────────────────  otherwise\n",
       "⎪       s⋅(s - 4)                   \n",
       "⎩                                   "
      ]
     },
     "execution_count": 13,
     "metadata": {},
     "output_type": "execute_result"
    }
   ],
   "source": [
    "integrate(exp(-1 * s * t) * (1 + exp(4 * t)), t).simplify()"
   ]
  },
  {
   "cell_type": "code",
   "execution_count": 14,
   "metadata": {},
   "outputs": [
    {
     "data": {
      "image/png": "[encoded data removed]",
      "text/latex": [
       "$$\\begin{cases} t + \\frac{e^{4 t}}{4} + e^{2 t} & \\text{for}\\: s = 0 \\\\2 t + \\sinh{\\left (2 t \\right )} & \\text{for}\\: s = 2 \\\\t - e^{- 2 t} - \\frac{1}{4} e^{- 4 t} & \\text{for}\\: s = 4 \\\\\\frac{e^{- s t}}{s \\left(s^{2} - 6 s + 8\\right)} \\left(- s^{2} e^{4 t} - 2 s^{2} e^{2 t} - s^{2} + 2 s e^{4 t} + 8 s e^{2 t} + 6 s - 8\\right) & \\text{otherwise} \\end{cases}$$"
      ],
      "text/plain": [
       "⎧                              4⋅t                                            \n",
       "⎪                             ℯ       2⋅t                                     \n",
       "⎪                         t + ──── + ℯ                               for s = 0\n",
       "⎪                              4                                              \n",
       "⎪                                                                             \n",
       "⎪                         2⋅t + sinh(2⋅t)                            for s = 2\n",
       "⎪                                                                             \n",
       "⎪                                     -4⋅t                                    \n",
       "⎨                             -2⋅t   ℯ                                        \n",
       "⎪                        t - ℯ     - ─────                           for s = 4\n",
       "⎪                                      4                                      \n",
       "⎪                                                                             \n",
       "⎪⎛   2  4⋅t      2  2⋅t    2        4⋅t        2⋅t          ⎞  -s⋅t           \n",
       "⎪⎝- s ⋅ℯ    - 2⋅s ⋅ℯ    - s  + 2⋅s⋅ℯ    + 8⋅s⋅ℯ    + 6⋅s - 8⎠⋅ℯ               \n",
       "⎪──────────────────────────────────────────────────────────────────  otherwise\n",
       "⎪                           ⎛ 2          ⎞                                    \n",
       "⎩                         s⋅⎝s  - 6⋅s + 8⎠                                    "
      ]
     },
     "execution_count": 14,
     "metadata": {},
     "output_type": "execute_result"
    }
   ],
   "source": [
    "integrate(exp(-1 * s * t) * (1 + exp(2 * t))**2, t).simplify()"
   ]
  },
  {
   "cell_type": "code",
   "execution_count": 22,
   "metadata": {
    "scrolled": true
   },
   "outputs": [
    {
     "data": {
      "image/png": "[encoded data removed]",
      "text/latex": [
       "$$\\frac{4 s^{2} - 16 s + 8}{s^{3} - 6 s^{2} + 8 s}$$"
      ],
      "text/plain": [
       "   2           \n",
       "4⋅s  - 16⋅s + 8\n",
       "───────────────\n",
       " 3      2      \n",
       "s  - 6⋅s  + 8⋅s"
      ]
     },
     "execution_count": 22,
     "metadata": {},
     "output_type": "execute_result"
    }
   ],
   "source": [
    "(4 * s**2 - 16 * s + 8) / (s**3 - 6 * s**2 + 8 * s)"
   ]
  },
  {
   "cell_type": "code",
   "execution_count": 23,
   "metadata": {},
   "outputs": [
    {
     "data": {
      "image/png": "[encoded data removed]",
      "text/latex": [
       "$$\\frac{2}{s - 2} + \\frac{1}{s - 4} + \\frac{1}{s}$$"
      ],
      "text/plain": [
       "  2       1     1\n",
       "───── + ───── + ─\n",
       "s - 2   s - 4   s"
      ]
     },
     "execution_count": 23,
     "metadata": {},
     "output_type": "execute_result"
    }
   ],
   "source": [
    "apart(_)"
   ]
  },
  {
   "cell_type": "code",
   "execution_count": 24,
   "metadata": {},
   "outputs": [
    {
     "data": {
      "image/png": "[encoded data removed]",
      "text/latex": [
       "$$\\begin{cases} \\frac{t^{2}}{2} & \\text{for}\\: s^{3} = 0 \\\\- \\frac{1}{s^{2}} \\left(s t + 1\\right) e^{- s t} & \\text{otherwise} \\end{cases}$$"
      ],
      "text/plain": [
       "⎧        2                    \n",
       "⎪       t                3    \n",
       "⎪       ──          for s  = 0\n",
       "⎪       2                     \n",
       "⎪                             \n",
       "⎨            -s⋅t             \n",
       "⎪-(s⋅t + 1)⋅ℯ                 \n",
       "⎪─────────────────  otherwise \n",
       "⎪         2                   \n",
       "⎪        s                    \n",
       "⎩                             "
      ]
     },
     "execution_count": 24,
     "metadata": {},
     "output_type": "execute_result"
    }
   ],
   "source": [
    "integrate(t*exp(-1 * s * t), t).simplify()"
   ]
  },
  {
   "cell_type": "code",
   "execution_count": 25,
   "metadata": {},
   "outputs": [
    {
     "data": {
      "image/png": "[encoded data removed]",
      "text/latex": [
       "$$\\begin{cases} 2 t & \\text{for}\\: s = 0 \\\\- \\frac{2}{s} e^{- s t} & \\text{otherwise} \\end{cases}$$"
      ],
      "text/plain": [
       "⎧   2⋅t     for s = 0\n",
       "⎪                    \n",
       "⎪    -s⋅t            \n",
       "⎨-2⋅ℯ                \n",
       "⎪─────────  otherwise\n",
       "⎪    s               \n",
       "⎩                    "
      ]
     },
     "execution_count": 25,
     "metadata": {},
     "output_type": "execute_result"
    }
   ],
   "source": [
    "integrate(2*exp(-1 * s * t), t).simplify()"
   ]
  },
  {
   "cell_type": "code",
   "execution_count": 27,
   "metadata": {},
   "outputs": [
    {
     "data": {
      "image/png": "[encoded data removed]",
      "text/latex": [
       "$$s^{3} + 3 s^{2} + 3 s + 1$$"
      ],
      "text/plain": [
       " 3      2          \n",
       "s  + 3⋅s  + 3⋅s + 1"
      ]
     },
     "execution_count": 27,
     "metadata": {},
     "output_type": "execute_result"
    }
   ],
   "source": [
    "expand((s+1)**3)"
   ]
  },
  {
   "cell_type": "code",
   "execution_count": 45,
   "metadata": {},
   "outputs": [
    {
     "data": {
      "image/png": "[encoded data removed]",
      "text/latex": [
       "$$- \\frac{1}{10 s + 200} + \\frac{1}{10 s + 100}$$"
      ],
      "text/plain": [
       "       1             1     \n",
       "- ─────────── + ───────────\n",
       "  10⋅(s + 20)   10⋅(s + 10)"
      ]
     },
     "execution_count": 45,
     "metadata": {},
     "output_type": "execute_result"
    }
   ],
   "source": [
    "apart(1/(s**2+30*s+200))"
   ]
  },
  {
   "cell_type": "code",
   "execution_count": 4,
   "metadata": {},
   "outputs": [
    {
     "data": {
      "image/png": "[encoded data removed]",
      "text/latex": [
       "$$- \\frac{1}{3 \\left(s + 4\\right)} + \\frac{4}{3 \\left(s + 1\\right)}$$"
      ],
      "text/plain": [
       "      1           4    \n",
       "- ───────── + ─────────\n",
       "  3⋅(s + 4)   3⋅(s + 1)"
      ]
     },
     "execution_count": 4,
     "metadata": {},
     "output_type": "execute_result"
    }
   ],
   "source": [
    "apart((s+5)/(s**2+5*s+4))"
   ]
  },
  {
   "cell_type": "code",
   "execution_count": 42,
   "metadata": {},
   "outputs": [
    {
     "data": {
      "image/png": "[encoded data removed]",
      "text/latex": [
       "$$\\left(e^{s} - 1\\right) e^{- 2 s}$$"
      ],
      "text/plain": [
       "⎛ s    ⎞  -2⋅s\n",
       "⎝ℯ  - 1⎠⋅ℯ    "
      ]
     },
     "execution_count": 42,
     "metadata": {},
     "output_type": "execute_result"
    }
   ],
   "source": [
    "(exp(-s)-exp(-2*s)).simplify()"
   ]
  },
  {
   "cell_type": "code",
   "execution_count": 67,
   "metadata": {},
   "outputs": [
    {
     "data": {
      "image/png": "[encoded data removed]",
      "text/latex": [
       "$$1.0$$"
      ],
      "text/plain": [
       "1.0"
      ]
     },
     "execution_count": 67,
     "metadata": {},
     "output_type": "execute_result"
    }
   ],
   "source": [
    "200*0.005"
   ]
  },
  {
   "cell_type": "code",
   "execution_count": null,
   "metadata": {
    "collapsed": true
   },
   "outputs": [],
   "source": []
  }
 ],
 "metadata": {
  "kernelspec": {
   "display_name": "Python 3",
   "language": "python",
   "name": "python3"
  },
  "language_info": {
   "codemirror_mode": {
    "name": "ipython",
    "version": 3
   },
   "file_extension": ".py",
   "mimetype": "text/x-python",
   "name": "python",
   "nbconvert_exporter": "python",
   "pygments_lexer": "ipython3",
   "version": "3.6.2"
  }
 },
 "nbformat": 4,
 "nbformat_minor": 2
}
