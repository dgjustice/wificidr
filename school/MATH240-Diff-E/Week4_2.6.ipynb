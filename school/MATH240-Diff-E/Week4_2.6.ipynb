{
 "cells": [
  {
   "cell_type": "code",
   "execution_count": 37,
   "metadata": {},
   "outputs": [
    {
     "name": "stdout",
     "output_type": "stream",
     "text": [
      "Using matplotlib backend: Qt5Agg\n"
     ]
    }
   ],
   "source": [
    "%matplotlib\n",
    "from scipy.integrate import ode\n",
    "import numpy as np\n",
    "import matplotlib.pyplot as plt\n",
    "\n",
    "x0, y0 = (0, 1)\n",
    "\n",
    "def derivative(x, y):\n",
    "    return y*(10-2*y)\n",
    "\n",
    "def euler(x_n, y_n, h, target):\n",
    "    solx = [x_n]\n",
    "    soly = [y_n]\n",
    "    n = 0\n",
    "    #tbl.add_row([x_n, y_n, n])\n",
    "    while abs(x_n/target - 1) > 0.00001:\n",
    "        n += 1\n",
    "        y_new = y_n + h*derivative(x_n, y_n)\n",
    "        x_n += h\n",
    "        #tbl.add_row([x_n, y_new, n])\n",
    "        y_n = y_new\n",
    "        solx.append(x_n)\n",
    "        soly.append(y_new)\n",
    "    return solx, soly\n",
    "\n",
    "x1 = 2\n",
    "\n",
    "for i, h in enumerate([0.25, 0.1, 0.05]):\n",
    "    x_list = []\n",
    "    y_list = []\n",
    "    # dopri5 defaults to RK4\n",
    "    r = ode(derivative).set_integrator('dopri5')\n",
    "    r.set_initial_value(y0, x0)\n",
    "    #print(\"h=%f\" % h)\n",
    "    e_x, e_y = euler(x0, y0, h, x1)\n",
    "    while r.successful() and r.t <= x1:\n",
    "        x_list.append(r.t)\n",
    "        y_list.append(r.y)\n",
    "        r.integrate(r.t+h)\n",
    "        #print(\"%g %g\" % (r.t, r.y))\n",
    "    plt.subplot(3, 1, i+1)\n",
    "    plt.plot(e_x, e_y, label=\"Euler\")\n",
    "    plt.plot(x_list, y_list, label=\"RK4\")\n",
    "    plt.legend()\n",
    "\n",
    "plt.show()"
   ]
  },
  {
   "cell_type": "code",
   "execution_count": null,
   "metadata": {
    "collapsed": true
   },
   "outputs": [],
   "source": []
  }
 ],
 "metadata": {
  "kernelspec": {
   "display_name": "Python 3",
   "language": "python",
   "name": "python3"
  },
  "language_info": {
   "codemirror_mode": {
    "name": "ipython",
    "version": 3
   },
   "file_extension": ".py",
   "mimetype": "text/x-python",
   "name": "python",
   "nbconvert_exporter": "python",
   "pygments_lexer": "ipython3",
   "version": "3.6.1"
  }
 },
 "nbformat": 4,
 "nbformat_minor": 2
}
