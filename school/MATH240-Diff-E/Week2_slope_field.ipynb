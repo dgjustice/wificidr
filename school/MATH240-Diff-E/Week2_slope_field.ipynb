{
 "cells": [
  {
   "cell_type": "code",
   "execution_count": 3,
   "metadata": {},
   "outputs": [
    {
     "name": "stdout",
     "output_type": "stream",
     "text": [
      "Using matplotlib backend: Qt5Agg\n"
     ]
    }
   ],
   "source": [
    "# Problem 2.1 number 5\n",
    "%matplotlib\n",
    "import matplotlib.pyplot as plt\n",
    "import numpy as np\n",
    "\n",
    "fig = plt.figure(num=1)\n",
    "ax=fig.add_subplot(111)\n",
    "ax.set_ylim([-5,5])\n",
    "ax.set_xlim([-5,5])\n",
    "\n",
    "def differential(x, y):\n",
    "    # or whatever function we're working with\n",
    "    #return x+(2*y)\n",
    "    return np.sin(x)*(1-y)\n",
    "\n",
    "#Vector field\n",
    "X,Y = np.meshgrid(np.linspace(-5,5,30),np.linspace(-5,5,30))\n",
    "# generate slope field\n",
    "m = differential(X,Y)\n",
    "U = 1/((m**2 + 1)**(1/2))\n",
    "V = m/((m**2 + 1)**(1/2))\n",
    "\n",
    "ax.quiver(X, Y, U, V, pivot='mid', headlength=2, headaxislength=2)\n",
    "ax.grid()\n",
    "\n",
    "plt.xlabel(r\"$x$\")\n",
    "plt.ylabel(r\"$y$\")\n",
    "plt.show()"
   ]
  },
  {
   "cell_type": "code",
   "execution_count": 12,
   "metadata": {},
   "outputs": [
    {
     "name": "stdout",
     "output_type": "stream",
     "text": [
      "Using matplotlib backend: Qt5Agg\n"
     ]
    }
   ],
   "source": [
    "# Problem 2.1 number 6\n",
    "%matplotlib\n",
    "import matplotlib.pyplot as plt\n",
    "import numpy as np\n",
    "\n",
    "fig = plt.figure(num=1)\n",
    "ax=fig.add_subplot(111)\n",
    "ax.set_ylim([-5,5])\n",
    "ax.set_xlim([-5,5])\n",
    "\n",
    "def differential(x, y):\n",
    "    # or whatever function we're working with\n",
    "    #return x+(2*y)\n",
    "    return x+y\n",
    "\n",
    "#Vector field\n",
    "X,Y = np.meshgrid(np.linspace(-5,5,30),np.linspace(-5,5,30))\n",
    "# generate slope field\n",
    "m = differential(X,Y)\n",
    "U = 1/((m**2 + 1)**(1/2))\n",
    "V = m/((m**2 + 1)**(1/2))\n",
    "\n",
    "ax.quiver(X, Y, U, V, pivot='mid', headlength=2, headaxislength=2)\n",
    "ax.grid()\n",
    "\n",
    "plt.xlabel(r\"$x$\")\n",
    "plt.ylabel(r\"$y$\")\n",
    "plt.show()"
   ]
  },
  {
   "cell_type": "code",
   "execution_count": 13,
   "metadata": {},
   "outputs": [
    {
     "name": "stdout",
     "output_type": "stream",
     "text": [
      "Using matplotlib backend: Qt5Agg\n"
     ]
    }
   ],
   "source": [
    "# Problem 2.1 number 7\n",
    "%matplotlib\n",
    "import matplotlib.pyplot as plt\n",
    "import numpy as np\n",
    "\n",
    "fig = plt.figure(num=1)\n",
    "ax=fig.add_subplot(111)\n",
    "ax.set_ylim([-5,5])\n",
    "ax.set_xlim([-5,5])\n",
    "\n",
    "def differential(x, y):\n",
    "    # or whatever function we're working with\n",
    "    #return x+(2*y)\n",
    "    return -1*x/y\n",
    "\n",
    "#Vector field\n",
    "X,Y = np.meshgrid(np.linspace(-5,5,30),np.linspace(-5,5,30))\n",
    "# generate slope field\n",
    "m = differential(X,Y)\n",
    "U = 1/((m**2 + 1)**(1/2))\n",
    "V = m/((m**2 + 1)**(1/2))\n",
    "\n",
    "ax.quiver(X, Y, U, V, pivot='mid', headlength=2, headaxislength=2)\n",
    "ax.grid()\n",
    "\n",
    "plt.xlabel(r\"$x$\")\n",
    "plt.ylabel(r\"$y$\")\n",
    "plt.show()"
   ]
  },
  {
   "cell_type": "code",
   "execution_count": null,
   "metadata": {
    "collapsed": true
   },
   "outputs": [],
   "source": []
  }
 ],
 "metadata": {
  "anaconda-cloud": {},
  "kernelspec": {
   "display_name": "Python 3",
   "language": "python",
   "name": "python3"
  },
  "language_info": {
   "codemirror_mode": {
    "name": "ipython",
    "version": 3
   },
   "file_extension": ".py",
   "mimetype": "text/x-python",
   "name": "python",
   "nbconvert_exporter": "python",
   "pygments_lexer": "ipython3",
   "version": "3.6.1"
  }
 },
 "nbformat": 4,
 "nbformat_minor": 1
}
