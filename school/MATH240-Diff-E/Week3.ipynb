{
 "cells": [
  {
   "cell_type": "code",
   "execution_count": 12,
   "metadata": {
    "collapsed": false
   },
   "outputs": [
    {
     "name": "stdout",
     "output_type": "stream",
     "text": [
      "Using matplotlib backend: MacOSX\n"
     ]
    }
   ],
   "source": [
    "%matplotlib\n",
    "import matplotlib.pyplot as plt\n",
    "from scipy import *\n",
    "from scipy import integrate\n",
    "from scipy.integrate import ode\n",
    "import numpy as np\n",
    "\n",
    "fig = plt.figure(num=1)\n",
    "ax=fig.add_subplot(111)\n",
    "ax.set_ylim([-6,6])\n",
    "ax.set_xlim([-13,13])\n",
    "\n",
    "def differential(x, y):\n",
    "    # or whatever function we're working with\n",
    "    #return x+(2*y)\n",
    "    return y**2-y-6\n",
    "\n",
    "#Vector field\n",
    "X,Y = np.meshgrid(np.linspace(-13,13,30),np.linspace(-13,13,30))\n",
    "# generate slope field\n",
    "m = differential(X,Y)\n",
    "U = 1/((m**2 + 1)**(1/2))\n",
    "V = m/((m**2 + 1)**(1/2))\n",
    "\n",
    "ax.quiver(X, Y, U, V, pivot='mid', headlength=2, headaxislength=2)\n",
    "ax.grid()\n",
    "\n",
    "z = np.linspace(-13,13, 200)\n",
    "#ax.plot(z, (-2*np.e**(8+5*z)-3)/(np.e**(8+5*z)-1))\n",
    "# y^2-y-6\n",
    "# 2y-1\n",
    "ax.plot(2*z**3-3*z**2-12*z+z+6, z)\n",
    "\n",
    "\n",
    "plt.xlabel(r\"$x$\")\n",
    "plt.ylabel(r\"$y$\")\n",
    "plt.show()"
   ]
  },
  {
   "cell_type": "code",
   "execution_count": null,
   "metadata": {
    "collapsed": true
   },
   "outputs": [],
   "source": []
  }
 ],
 "metadata": {
  "kernelspec": {
   "display_name": "Python 3",
   "language": "python",
   "name": "python3"
  },
  "language_info": {
   "codemirror_mode": {
    "name": "ipython",
    "version": 3
   },
   "file_extension": ".py",
   "mimetype": "text/x-python",
   "name": "python",
   "nbconvert_exporter": "python",
   "pygments_lexer": "ipython3",
   "version": "3.6.0"
  }
 },
 "nbformat": 4,
 "nbformat_minor": 2
}
