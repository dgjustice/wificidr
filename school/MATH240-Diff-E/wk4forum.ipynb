{
 "cells": [
  {
   "cell_type": "code",
   "execution_count": 24,
   "metadata": {
    "collapsed": false
   },
   "outputs": [
    {
     "name": "stdout",
     "output_type": "stream",
     "text": [
      "# 9.1 number 21\n",
      "+--------+--------+-----+\n",
      "|  x_n   |  y_n   |  n  |\n",
      "+--------+--------+-----+\n",
      "|   1    |   1    |  0  |\n",
      "| 1.1000 | 1.2000 |  1  |\n",
      "| 1.2000 | 1.4640 |  2  |\n",
      "| 1.3000 | 1.8154 |  3  |\n",
      "| 1.4000 | 2.2874 |  4  |\n",
      "| 1.5000 | 2.9278 |  5  |\n",
      "|  ---   |  ---   | --- |\n",
      "|   1    |   1    |  0  |\n",
      "| 1.1000 | 1.2320 |  1  |\n",
      "| 1.2000 | 1.5479 |  2  |\n",
      "| 1.3000 | 1.9832 |  3  |\n",
      "| 1.4000 | 2.5908 |  4  |\n",
      "| 1.5000 | 3.4509 |  5  |\n",
      "|  ***   |  ***   | *** |\n",
      "| 1.1000 | 1.2320 |  1  |\n",
      "| 1.2000 | 1.5077 |  2  |\n",
      "| 1.3000 | 1.8757 |  3  |\n",
      "| 1.4000 | 2.3716 |  4  |\n",
      "| 1.5000 | 3.0468 |  5  |\n",
      "+--------+--------+-----+\n"
     ]
    },
    {
     "data": {
      "image/png": "[encoded data removed]",
      "text/plain": [
       "<matplotlib.figure.Figure at 0x10ce13860>"
      ]
     },
     "metadata": {},
     "output_type": "display_data"
    }
   ],
   "source": [
    "from prettytable import PrettyTable\n",
    "import math\n",
    "import numpy as np\n",
    "import matplotlib.pyplot as plt\n",
    "tbl = PrettyTable()\n",
    "tbl.field_names = [\"x_n\", \"y_n\", \"n\"] \n",
    "tbl.float_format=\"1.4\"\n",
    "\n",
    "def derivative(x, y):\n",
    "    return 2*x*y\n",
    "\n",
    "def euler(x_n, y_n, h, target):\n",
    "    solx = [x_n]\n",
    "    soly = [y_n]\n",
    "\n",
    "    n = 0\n",
    "    tbl.add_row([x_n, y_n, n])\n",
    "    while abs(x_n/target - 1) > 0.00001:\n",
    "        n += 1\n",
    "        y_new = y_n + h*derivative(x_n, y_n)\n",
    "        x_n += h\n",
    "        tbl.add_row([x_n, y_new, n])\n",
    "        y_n = y_new\n",
    "        solx.append(x_n)\n",
    "        soly.append(y_new)\n",
    "    return solx, soly\n",
    "\n",
    "def imp_euler(x_n, y_n, h, target):\n",
    "    solx = [x_n]\n",
    "    soly = [y_n]\n",
    "\n",
    "    n = 0\n",
    "    tbl.add_row([x_n, y_n, n])\n",
    "    while abs(x_n/target - 1) > 0.00001:\n",
    "        n += 1\n",
    "        y_nsplat = y_n + h*derivative(x_n, y_n)\n",
    "        y_new = y_n+h*(derivative(x_n, y_n)+derivative(x_n+h, y_nsplat))/2\n",
    "        x_n += h\n",
    "        tbl.add_row([x_n, y_new, n]) \n",
    "        y_n = y_new\n",
    "        solx.append(x_n)\n",
    "        soly.append(y_new)\n",
    "    return solx, soly\n",
    "\n",
    "y_n = 1\n",
    "x_n = 1\n",
    "h = 0.1\n",
    "target = 1.5\n",
    "solx, soly = euler(x_n, y_n, h, target)\n",
    "plt.plot(solx, soly)\n",
    "\n",
    "tbl.add_row([\"---\",\"---\",\"---\"]) \n",
    "\n",
    "# h = 0.05\n",
    "solx2, soly2 = imp_euler(x_n, y_n, h, target)\n",
    "plt.plot(solx2, soly2, color=\"black\")\n",
    "\n",
    "tbl.add_row([\"***\",\"***\",\"***\"]) \n",
    "# naive way\n",
    "fooy = [soly[0]]\n",
    "foox = [solx[0]]\n",
    "for i in range(1, len(solx)):\n",
    "    y_new = soly[i-1]+h*(derivative(solx[i-1], soly[i-1])+derivative(solx[i-1]+h, soly[i]))/2\n",
    "    tbl.add_row([solx[i], y_new, i])\n",
    "    fooy.append(y_new)\n",
    "    foox.append(solx[i])\n",
    "plt.plot(foox, fooy, color=\"red\")\n",
    "    \n",
    "print(\"# 9.1 number 21\")\n",
    "print(tbl)\n",
    "plt.show()"
   ]
  },
  {
   "cell_type": "code",
   "execution_count": null,
   "metadata": {
    "collapsed": true
   },
   "outputs": [],
   "source": []
  }
 ],
 "metadata": {
  "kernelspec": {
   "display_name": "Python 3",
   "language": "python",
   "name": "python3"
  },
  "language_info": {
   "codemirror_mode": {
    "name": "ipython",
    "version": 3
   },
   "file_extension": ".py",
   "mimetype": "text/x-python",
   "name": "python",
   "nbconvert_exporter": "python",
   "pygments_lexer": "ipython3",
   "version": "3.6.0"
  }
 },
 "nbformat": 4,
 "nbformat_minor": 2
}
