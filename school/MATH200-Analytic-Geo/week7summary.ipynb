{
 "cells": [
  {
   "cell_type": "code",
   "execution_count": 6,
   "metadata": {
    "collapsed": false
   },
   "outputs": [
    {
     "name": "stdout",
     "output_type": "stream",
     "text": [
      "Using matplotlib backend: Qt5Agg\n"
     ]
    }
   ],
   "source": [
    "%matplotlib\n",
    "import matplotlib.pyplot as plt\n",
    "from mpl_toolkits.mplot3d import Axes3D\n",
    "import numpy as np\n",
    "\n",
    "# Plot vectors\n",
    "x=np.array([0,2,1,4])\n",
    "y=np.array([0,3,-1,-1])\n",
    "z=np.array([0,4,3,-2])\n",
    "\n",
    "fig = plt.figure()\n",
    "ax = fig.add_subplot(111, projection='3d')\n",
    "# use cumsum to build resultants\n",
    "ax.plot(np.cumsum(x), np.cumsum(y), np.cumsum(z), color=\"black\")\n",
    "# validate our answer\n",
    "ax.plot([0,7], [0,1], [0,5], linewidth=2, color=\"blue\")\n",
    "ax.set_xlim(-3,8)\n",
    "ax.set_ylim(-3,8)\n",
    "ax.set_zlim(-3,8)\n",
    "\n",
    "plt.show()"
   ]
  },
  {
   "cell_type": "code",
   "execution_count": null,
   "metadata": {
    "collapsed": true
   },
   "outputs": [],
   "source": []
  }
 ],
 "metadata": {
  "anaconda-cloud": {},
  "kernelspec": {
   "display_name": "Python [default]",
   "language": "python",
   "name": "python3"
  },
  "language_info": {
   "codemirror_mode": {
    "name": "ipython",
    "version": 3
   },
   "file_extension": ".py",
   "mimetype": "text/x-python",
   "name": "python",
   "nbconvert_exporter": "python",
   "pygments_lexer": "ipython3",
   "version": "3.5.2"
  }
 },
 "nbformat": 4,
 "nbformat_minor": 1
}
