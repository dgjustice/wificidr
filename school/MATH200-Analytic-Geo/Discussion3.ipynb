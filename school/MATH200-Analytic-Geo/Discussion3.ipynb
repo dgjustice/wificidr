{
 "cells": [
  {
   "cell_type": "code",
   "execution_count": 25,
   "metadata": {
    "collapsed": false
   },
   "outputs": [
    {
     "name": "stdout",
     "output_type": "stream",
     "text": [
      "Using matplotlib backend: MacOSX\n"
     ]
    }
   ],
   "source": [
    "%matplotlib\n",
    "# a stacked bar plot with errorbars\n",
    "import numpy as np\n",
    "import matplotlib.pyplot as plt\n",
    "\n",
    "f, ax1 = plt.subplots(1, 1)\n",
    "\n",
    "x = np.linspace(0,2.5)\n",
    "y = -16*x**2+40*x\n",
    "\n",
    "#p1 = ax1.bar(x, y, 1/1.5, color='blue')\n",
    "#p2 = ax1.bar(x, np.cumsum(y), alpha=0.2, color=\"black\")\n",
    "ax1.plot(x, y, \"bo\", color=\"blue\")\n",
    "ax1.set_ylim(0,28)\n",
    "ax1.set_xlabel('time')\n",
    "ax1.set_ylabel('position in feet')\n",
    "ax1.legend((r'$-16t^2+40t$',), loc=0)\n",
    "\n",
    "plt.show()\n"
   ]
  },
  {
   "cell_type": "markdown",
   "metadata": {},
   "source": []
  }
 ],
 "metadata": {
  "anaconda-cloud": {},
  "kernelspec": {
   "display_name": "Python [default]",
   "language": "python",
   "name": "python3"
  },
  "language_info": {
   "codemirror_mode": {
    "name": "ipython",
    "version": 3
   },
   "file_extension": ".py",
   "mimetype": "text/x-python",
   "name": "python",
   "nbconvert_exporter": "python",
   "pygments_lexer": "ipython3",
   "version": "3.5.2"
  }
 },
 "nbformat": 4,
 "nbformat_minor": 1
}
