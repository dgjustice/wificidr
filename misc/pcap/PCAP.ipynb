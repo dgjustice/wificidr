{
 "cells": [
  {
   "cell_type": "markdown",
   "metadata": {
    "colab_type": "text",
    "id": "bmsyHgwhzDCh"
   },
   "source": [
    "# Packet capture analysis\n",
    "\n",
    "\n",
    "The following presentation discusses and demonstrates the equations and calculations found at https://sflow.org/packetSamplingBasics/index.htm\n",
    "\n",
    "The data was generated from a packet capture of incoming traffic to my laptop.\n",
    "\n",
    "```bash\n",
    "tcpdump -nn -i eno2 dst 192.168.1.248 -w cap.pcap -s 65535\n",
    "```\n",
    "\n",
    "### Know your data!!!\n",
    "\n",
    "During my first run at this analysis, I noticed an anomaly while trying to calculate confidence intervals.  I finally gave up an plotted a histogram of packet lengths.  There were packets of up to 20kb in the long tail!  The distribution was horribly right-skewed.  What happened?  TCP-offload.  I turned off all offload options on the second run.  **Confidence intervals assume a bell-shaped curve that behaves like the Normal Distribution.**  More on this at the end."
   ]
  },
  {
   "cell_type": "code",
   "execution_count": 2,
   "metadata": {
    "colab": {
     "base_uri": "https://localhost:8080/",
     "height": 419
    },
    "colab_type": "code",
    "id": "42UiwQmhlwzG",
    "outputId": "5ec13045-8505-4a71-93c4-a49483938b4a"
   },
   "outputs": [
    {
     "data": {
      "text/html": [
       "<div>\n",
       "<style scoped>\n",
       "    .dataframe tbody tr th:only-of-type {\n",
       "        vertical-align: middle;\n",
       "    }\n",
       "\n",
       "    .dataframe tbody tr th {\n",
       "        vertical-align: top;\n",
       "    }\n",
       "\n",
       "    .dataframe thead th {\n",
       "        text-align: right;\n",
       "    }\n",
       "</style>\n",
       "<table border=\"1\" class=\"dataframe\">\n",
       "  <thead>\n",
       "    <tr style=\"text-align: right;\">\n",
       "      <th></th>\n",
       "      <th>No.</th>\n",
       "      <th>Time</th>\n",
       "      <th>Source</th>\n",
       "      <th>Destination</th>\n",
       "      <th>Protocol</th>\n",
       "      <th>Length</th>\n",
       "      <th>Info</th>\n",
       "    </tr>\n",
       "  </thead>\n",
       "  <tbody>\n",
       "    <tr>\n",
       "      <th>0</th>\n",
       "      <td>1</td>\n",
       "      <td>0.000000</td>\n",
       "      <td>18.211.118.21</td>\n",
       "      <td>192.168.1.248</td>\n",
       "      <td>TCP</td>\n",
       "      <td>66</td>\n",
       "      <td>443  &gt;  33100 [ACK] Seq=1 Ack=1 Win=17 Len=0 T...</td>\n",
       "    </tr>\n",
       "    <tr>\n",
       "      <th>1</th>\n",
       "      <td>2</td>\n",
       "      <td>0.000465</td>\n",
       "      <td>18.211.118.21</td>\n",
       "      <td>192.168.1.248</td>\n",
       "      <td>TLSv1.2</td>\n",
       "      <td>122</td>\n",
       "      <td>Application Data</td>\n",
       "    </tr>\n",
       "    <tr>\n",
       "      <th>2</th>\n",
       "      <td>3</td>\n",
       "      <td>0.433247</td>\n",
       "      <td>149.112.112.112</td>\n",
       "      <td>192.168.1.248</td>\n",
       "      <td>TCP</td>\n",
       "      <td>66</td>\n",
       "      <td>443  &gt;  52906 [ACK] Seq=1 Ack=1 Win=588 Len=0 ...</td>\n",
       "    </tr>\n",
       "    <tr>\n",
       "      <th>3</th>\n",
       "      <td>4</td>\n",
       "      <td>0.579567</td>\n",
       "      <td>149.112.112.112</td>\n",
       "      <td>192.168.1.248</td>\n",
       "      <td>TLSv1.2</td>\n",
       "      <td>313</td>\n",
       "      <td>Application Data</td>\n",
       "    </tr>\n",
       "    <tr>\n",
       "      <th>4</th>\n",
       "      <td>5</td>\n",
       "      <td>1.048138</td>\n",
       "      <td>208.85.40.20</td>\n",
       "      <td>192.168.1.248</td>\n",
       "      <td>TCP</td>\n",
       "      <td>66</td>\n",
       "      <td>443  &gt;  42740 [ACK] Seq=1 Ack=1 Win=65535 Len=...</td>\n",
       "    </tr>\n",
       "    <tr>\n",
       "      <th>...</th>\n",
       "      <td>...</td>\n",
       "      <td>...</td>\n",
       "      <td>...</td>\n",
       "      <td>...</td>\n",
       "      <td>...</td>\n",
       "      <td>...</td>\n",
       "      <td>...</td>\n",
       "    </tr>\n",
       "    <tr>\n",
       "      <th>165363</th>\n",
       "      <td>165364</td>\n",
       "      <td>34874.948849</td>\n",
       "      <td>172.217.7.238</td>\n",
       "      <td>192.168.1.248</td>\n",
       "      <td>TLSv1.3</td>\n",
       "      <td>323</td>\n",
       "      <td>Application Data</td>\n",
       "    </tr>\n",
       "    <tr>\n",
       "      <th>165364</th>\n",
       "      <td>165365</td>\n",
       "      <td>34874.948913</td>\n",
       "      <td>172.217.7.238</td>\n",
       "      <td>192.168.1.248</td>\n",
       "      <td>TLSv1.3</td>\n",
       "      <td>125</td>\n",
       "      <td>Application Data</td>\n",
       "    </tr>\n",
       "    <tr>\n",
       "      <th>165365</th>\n",
       "      <td>165366</td>\n",
       "      <td>34874.948920</td>\n",
       "      <td>172.217.7.238</td>\n",
       "      <td>192.168.1.248</td>\n",
       "      <td>TLSv1.3</td>\n",
       "      <td>105</td>\n",
       "      <td>Application Data</td>\n",
       "    </tr>\n",
       "    <tr>\n",
       "      <th>165366</th>\n",
       "      <td>165367</td>\n",
       "      <td>34875.006143</td>\n",
       "      <td>172.217.7.238</td>\n",
       "      <td>192.168.1.248</td>\n",
       "      <td>TCP</td>\n",
       "      <td>66</td>\n",
       "      <td>443  &gt;  60028 [ACK] Seq=125153 Ack=290153 Win=...</td>\n",
       "    </tr>\n",
       "    <tr>\n",
       "      <th>165367</th>\n",
       "      <td>165368</td>\n",
       "      <td>34875.279653</td>\n",
       "      <td>185.70.41.139</td>\n",
       "      <td>192.168.1.248</td>\n",
       "      <td>TCP</td>\n",
       "      <td>66</td>\n",
       "      <td>[TCP Dup ACK 164448#1] 443  &gt;  41828 [ACK] Seq...</td>\n",
       "    </tr>\n",
       "  </tbody>\n",
       "</table>\n",
       "<p>165368 rows × 7 columns</p>\n",
       "</div>"
      ],
      "text/plain": [
       "           No.          Time           Source    Destination Protocol  Length  \\\n",
       "0            1      0.000000    18.211.118.21  192.168.1.248      TCP      66   \n",
       "1            2      0.000465    18.211.118.21  192.168.1.248  TLSv1.2     122   \n",
       "2            3      0.433247  149.112.112.112  192.168.1.248      TCP      66   \n",
       "3            4      0.579567  149.112.112.112  192.168.1.248  TLSv1.2     313   \n",
       "4            5      1.048138     208.85.40.20  192.168.1.248      TCP      66   \n",
       "...        ...           ...              ...            ...      ...     ...   \n",
       "165363  165364  34874.948849    172.217.7.238  192.168.1.248  TLSv1.3     323   \n",
       "165364  165365  34874.948913    172.217.7.238  192.168.1.248  TLSv1.3     125   \n",
       "165365  165366  34874.948920    172.217.7.238  192.168.1.248  TLSv1.3     105   \n",
       "165366  165367  34875.006143    172.217.7.238  192.168.1.248      TCP      66   \n",
       "165367  165368  34875.279653    185.70.41.139  192.168.1.248      TCP      66   \n",
       "\n",
       "                                                     Info  \n",
       "0       443  >  33100 [ACK] Seq=1 Ack=1 Win=17 Len=0 T...  \n",
       "1                                        Application Data  \n",
       "2       443  >  52906 [ACK] Seq=1 Ack=1 Win=588 Len=0 ...  \n",
       "3                                        Application Data  \n",
       "4       443  >  42740 [ACK] Seq=1 Ack=1 Win=65535 Len=...  \n",
       "...                                                   ...  \n",
       "165363                                   Application Data  \n",
       "165364                                   Application Data  \n",
       "165365                                   Application Data  \n",
       "165366  443  >  60028 [ACK] Seq=125153 Ack=290153 Win=...  \n",
       "165367  [TCP Dup ACK 164448#1] 443  >  41828 [ACK] Seq...  \n",
       "\n",
       "[165368 rows x 7 columns]"
      ]
     },
     "execution_count": 2,
     "metadata": {},
     "output_type": "execute_result"
    }
   ],
   "source": [
    "import pandas as pd\n",
    "import matplotlib.pyplot as plt\n",
    "from math import sqrt\n",
    "\n",
    "df = pd.read_csv(\"pcap.csv\")\n",
    "df"
   ]
  },
  {
   "cell_type": "markdown",
   "metadata": {
    "colab_type": "text",
    "id": "mp5akhPn0NCq"
   },
   "source": [
    "## Discussion of sample size\n",
    "\n",
    "The article uses an example of 1M packets as the population size and some other random figures for classes of packets within that population.  The sample size is solely dependent on the error function.\n",
    "\n",
    "### Minimum sample size needed for an interval estimate of a population proportion\n",
    "\n",
    "$$n = \\hat{p}\\hat{q}\\bigg(\\frac{z_{\\alpha / 2}}{E}\\bigg)^2$$\n",
    "\n",
    "Where `n` is the sample size, $z_{\\alpha / 2}$ is the critical value of the normal distribution, and `E` is the margin of error desired.  When $\\hat{p}$ and $\\hat{q}$ are unknown, it is advised to use $0.5^2$.\n",
    "\n",
    "There are 165,368 packets in my capture.  We will assume a critical value ($z_{\\alpha /2}$) of 1.96 (95% confidence) which corresponds to the numbers used in the paper cited above."
   ]
  },
  {
   "cell_type": "code",
   "execution_count": 4,
   "metadata": {
    "colab": {
     "base_uri": "https://localhost:8080/",
     "height": 34
    },
    "colab_type": "code",
    "id": "EgoWhG0L67vB",
    "outputId": "7c220e74-c036-4bca-90c0-0054f3da9276"
   },
   "outputs": [
    {
     "data": {
      "text/plain": [
       "384"
      ]
     },
     "execution_count": 4,
     "metadata": {},
     "output_type": "execute_result"
    }
   ],
   "source": [
    "n = int(\n",
    "  round(0.25 * (1.96 / 0.05)**2, 0)\n",
    ")\n",
    "n"
   ]
  },
  {
   "cell_type": "code",
   "execution_count": 5,
   "metadata": {},
   "outputs": [
    {
     "data": {
      "text/plain": [
       "383.2719534511854"
      ]
     },
     "execution_count": 5,
     "metadata": {},
     "output_type": "execute_result"
    }
   ],
   "source": [
    "N = df[\"No.\"].max()\n",
    "X = 1.96**2 * 0.25 / 0.05**2\n",
    "nn = N*X/(X + N -1)\n",
    "nn"
   ]
  },
  {
   "cell_type": "markdown",
   "metadata": {
    "colab_type": "text",
    "id": "vs10niTtxbhi"
   },
   "source": [
    "## Equation 1\n",
    "\n",
    "Estimated number of packets of a given class.  I am using a randomly-picked host IP as my class.\n",
    "\n",
    "$$N_c = \\frac{c}{n}\\cdot N$$"
   ]
  },
  {
   "cell_type": "code",
   "execution_count": 6,
   "metadata": {
    "colab": {
     "base_uri": "https://localhost:8080/",
     "height": 34
    },
    "colab_type": "code",
    "id": "kbkMLfuzvS-0",
    "outputId": "7e94fba8-fce5-4ccc-96eb-050e42fdf5c7"
   },
   "outputs": [
    {
     "data": {
      "text/plain": [
       "9474.208333333332"
      ]
     },
     "execution_count": 6,
     "metadata": {},
     "output_type": "execute_result"
    }
   ],
   "source": [
    "# Randomly-picked host\n",
    "host = \"170.199.160.140\"\n",
    "\n",
    "N = df[\"No.\"].max()\n",
    "# random_state to keep results repeatable\n",
    "samples = df.sample(n=n, replace=True, random_state=1)\n",
    "c = len(samples[samples[\"Source\"] == host])\n",
    "N_c = c / n * N\n",
    "N_c"
   ]
  },
  {
   "cell_type": "markdown",
   "metadata": {
    "colab_type": "text",
    "id": "TTwAYUGHx2I2"
   },
   "source": [
    "## Equation 2\n",
    "\n",
    "Calculate the variance of the sample.  Standard deviation is simply the square root of the variance.\n",
    "\n",
    "$$\\sigma^2 = N^2 \\cdot \\frac{c \\cdot \\bigg (1-\\frac{c}{n}\\bigg )}{n^2-n}$$"
   ]
  },
  {
   "cell_type": "code",
   "execution_count": 7,
   "metadata": {
    "colab": {
     "base_uri": "https://localhost:8080/",
     "height": 51
    },
    "colab_type": "code",
    "id": "51_xKiJVyNL0",
    "outputId": "7ae505c6-b928-46f9-c688-eb2ea298ac36"
   },
   "outputs": [
    {
     "name": "stdout",
     "output_type": "stream",
     "text": [
      "Variance: 3856319.22\n",
      "Standard deviation: 1963.75\n"
     ]
    }
   ],
   "source": [
    "sig_sq = (N**2) * (c* (1 - c / n))/(n**2 - n)\n",
    "sig = sqrt(sig_sq)\n",
    "print(f\"Variance: {round(sig_sq, 2)}\")\n",
    "print(f\"Standard deviation: {round(sig, 2)}\")\n"
   ]
  },
  {
   "cell_type": "markdown",
   "metadata": {
    "colab_type": "text",
    "id": "M7AipKnU81Fw"
   },
   "source": [
    "## Equation 3\n",
    "\n",
    "The 95% confidence interval for $N_c$."
   ]
  },
  {
   "cell_type": "code",
   "execution_count": 8,
   "metadata": {
    "colab": {
     "base_uri": "https://localhost:8080/",
     "height": 34
    },
    "colab_type": "code",
    "id": "yqir6Fk38vOC",
    "outputId": "3a86fd32-5853-4495-a4fc-d29e78708bb2"
   },
   "outputs": [
    {
     "data": {
      "text/plain": [
       "[5625.255760989759, 13323.160905676905]"
      ]
     },
     "execution_count": 8,
     "metadata": {},
     "output_type": "execute_result"
    }
   ],
   "source": [
    "[N_c - 1.96 * sig, N_c + 1.96 * sig]"
   ]
  },
  {
   "cell_type": "markdown",
   "metadata": {
    "colab_type": "text",
    "id": "WC717Gyt-I38"
   },
   "source": [
    "The nubers above may appear to be quite large, but keep in mind what we are really interested in is sample proportions.  That 95% confidence interval translates to a sample proportion given by the following cell."
   ]
  },
  {
   "cell_type": "code",
   "execution_count": 9,
   "metadata": {
    "colab": {
     "base_uri": "https://localhost:8080/",
     "height": 51
    },
    "colab_type": "code",
    "id": "1wD9JZO99rVy",
    "outputId": "45537309-cdb5-4e5a-aa61-8086fea2837d"
   },
   "outputs": [
    {
     "name": "stdout",
     "output_type": "stream",
     "text": [
      "[0.03, 0.08]\n",
      "Actual population proportion: 0.05\n"
     ]
    }
   ],
   "source": [
    "population_prop = len(df[df.Source == host]) / df[\"No.\"].max()\n",
    "\n",
    "print(f\"[{round((N_c - 1.96 * sig)/N, 2)}, {round((N_c + 1.96 * sig)/N, 2)}]\")\n",
    "print(f\"Actual population proportion: {round(population_prop, 2)}\")"
   ]
  },
  {
   "cell_type": "markdown",
   "metadata": {
    "colab_type": "text",
    "id": "mCYAs9TULmKT"
   },
   "source": [
    "## Does it work?\n",
    "\n",
    "The confidence interval changes slightly with each new random sample.  It should be fairly rare that the true population proportion is outside of this interval."
   ]
  },
  {
   "cell_type": "code",
   "execution_count": 10,
   "metadata": {
    "colab": {
     "base_uri": "https://localhost:8080/",
     "height": 187
    },
    "colab_type": "code",
    "id": "NQl-AR-dKetu",
    "outputId": "0d7b635e-bfa6-4e80-f8b5-54781a140e37"
   },
   "outputs": [
    {
     "name": "stdout",
     "output_type": "stream",
     "text": [
      "4 misses in 100 trials\n",
      "5 misses in 100 trials\n",
      "4 misses in 100 trials\n",
      "4 misses in 100 trials\n",
      "4 misses in 100 trials\n",
      "1 misses in 100 trials\n",
      "6 misses in 100 trials\n",
      "1 misses in 100 trials\n",
      "12 misses in 100 trials\n",
      "4 misses in 100 trials\n"
     ]
    }
   ],
   "source": [
    "from random import randint\n",
    "def run_prop_trials():\n",
    "  for i in range(10):\n",
    "    misses = 0\n",
    "    trials = 100\n",
    "    for i in range(trials):\n",
    "      # No seed this time\n",
    "      samples = df.sample(n=n, replace=True)\n",
    "      c = len(samples[samples[\"Source\"] == host])\n",
    "      N_c = c / n * N\n",
    "      low = (N_c - 1.96 * sig)/N\n",
    "      high = (N_c + 1.96 * sig)/N\n",
    "      if low <= population_prop <= high:\n",
    "        continue\n",
    "      # print(f\"Miss!  {low} <= {population_prop} <= {high}\")\n",
    "      misses += 1\n",
    "    print(f\"{misses} misses in {trials} trials\")\n",
    "run_prop_trials()"
   ]
  },
  {
   "cell_type": "markdown",
   "metadata": {
    "colab_type": "text",
    "id": "ydggf0QyDKV8"
   },
   "source": [
    "Equation 5 - 17 dive into the previous numbers in more detail.\n",
    "\n",
    "## Equations 18 - 22\n",
    "\n",
    "Packet is very interested in byte counts for billing purposes.\n",
    "\n",
    "$$B_c = sum(sample\\_bytes)$$\n",
    "$$var(B_c) = var(N_c) \\cdot var(\\bar{b_c})+N^2_c\\cdot var(\\bar{b_c})+\\bar{b_c}^2 \\cdot var(N_c)$$"
   ]
  },
  {
   "cell_type": "code",
   "execution_count": 11,
   "metadata": {
    "colab": {
     "base_uri": "https://localhost:8080/",
     "height": 85
    },
    "colab_type": "code",
    "id": "n7FR4fjO-fg-",
    "outputId": "b2edbb1a-c6b1-47b7-a509-95af832c035d"
   },
   "outputs": [
    {
     "name": "stdout",
     "output_type": "stream",
     "text": [
      "Estimated sum of class bytes (B_c): 14343951\n",
      "Variance B_c: 5932866153414.02\n",
      "Standard deviation of B_c: 2435747.56\n",
      "Confidence interval: [9569886, 19118017]\n"
     ]
    }
   ],
   "source": [
    "tot_bytes = df[\"Length\"].sum()\n",
    "samples = df.sample(n=n, replace=True, random_state=1)\n",
    "pop_bytes_prop = df[df[\"Source\"] == host][\"Length\"].sum() / tot_bytes\n",
    "\n",
    "matches = samples[samples[\"Source\"] == host]\n",
    "c = len(matches)\n",
    "N_c = c / n * N\n",
    "b_c_ = matches.agg({\"Length\": [\"mean\"]})[\"Length\"][\"mean\"]\n",
    "B_c = b_c_ * N_c\n",
    "print(f\"Estimated sum of class bytes (B_c): {int(round(B_c, 0))}\")\n",
    "var_b_c_ = (((matches[\"Length\"] - b_c_)**2).sum() - B_c/c)/(c - 1)\n",
    "var_B_c = sig_sq * var_b_c_ + N_c**2 * var_b_c_ + b_c_**2 * sig_sq\n",
    "print(f\"Variance B_c: {round(var_B_c, 2)}\")\n",
    "\n",
    "sig_B_c = sqrt(var_B_c)\n",
    "print(f\"Standard deviation of B_c: {round(sig_B_c, 2)}\")\n",
    "print(f\"Confidence interval: [{int(round(B_c - 1.96 * sig_B_c, 0))}, {int(round(B_c + 1.96 * sig_B_c, 0))}]\")"
   ]
  },
  {
   "cell_type": "code",
   "execution_count": 12,
   "metadata": {
    "colab": {
     "base_uri": "https://localhost:8080/",
     "height": 187
    },
    "colab_type": "code",
    "id": "SBb_3CfRSG_w",
    "outputId": "5264f384-dec4-43d2-87a8-92e178bacf3b"
   },
   "outputs": [
    {
     "name": "stdout",
     "output_type": "stream",
     "text": [
      "8 misses in 100 trials\n",
      "7 misses in 100 trials\n",
      "9 misses in 100 trials\n",
      "6 misses in 100 trials\n",
      "7 misses in 100 trials\n",
      "5 misses in 100 trials\n",
      "6 misses in 100 trials\n",
      "4 misses in 100 trials\n",
      "7 misses in 100 trials\n",
      "12 misses in 100 trials\n"
     ]
    }
   ],
   "source": [
    "pop_bytes_prop = df[df[\"Source\"] == host][\"Length\"].sum() / tot_bytes\n",
    "def run_byte_trials():\n",
    "  for i in range(10):\n",
    "    misses = 0\n",
    "    trials = 100\n",
    "    for i in range(trials):\n",
    "      # No seed this time\n",
    "      samples = df.sample(n=n, replace=True)\n",
    "      matches = samples[samples[\"Source\"] == host]\n",
    "      c = len(matches)\n",
    "      N_c = c / n * N\n",
    "      b_c_ = matches.agg({\"Length\": [\"mean\"]})[\"Length\"][\"mean\"]\n",
    "      B_c = b_c_ * N_c\n",
    "      var_b_c_ = (((matches[\"Length\"] - b_c_)**2).sum() - B_c/c)/(c - 1)\n",
    "      var_B_c = sig_sq * var_b_c_ + N_c**2 * var_b_c_ + b_c_**2 * sig_sq\n",
    "      sig_B_c = sqrt(var_B_c)\n",
    "      low = (B_c - 1.96 * sig_B_c) / tot_bytes\n",
    "      high = (B_c + 1.96 * sig_B_c) / tot_bytes\n",
    "      if low <= pop_bytes_prop <= high:\n",
    "        continue\n",
    "      # print(f\"{round(pop_bytes_prop, 3)} not in the interval [{round(low, 3)}, {round(high, 3)}]\")\n",
    "      misses += 1\n",
    "    print(f\"{misses} misses in {trials} trials\")\n",
    "run_byte_trials()"
   ]
  },
  {
   "cell_type": "markdown",
   "metadata": {
    "colab_type": "text",
    "id": "Xt3Ujmjr9C4e"
   },
   "source": [
    "## Not too bad!\n",
    "\n",
    "... but a little higher than we expected when using a 95% confidence interval.  For an explanation of this, we need to look at the data.\n",
    "\n"
   ]
  },
  {
   "cell_type": "code",
   "execution_count": 13,
   "metadata": {
    "colab": {
     "base_uri": "https://localhost:8080/",
     "height": 265
    },
    "colab_type": "code",
    "id": "f4lf39KySMzo",
    "outputId": "73edcc28-023f-41e7-caa3-9c4657ae5404"
   },
   "outputs": [
    {
     "data": {
      "image/png": "[encoded data removed]",
      "text/plain": [
       "<Figure size 432x288 with 1 Axes>"
      ]
     },
     "metadata": {
      "needs_background": "light"
     },
     "output_type": "display_data"
    }
   ],
   "source": [
    "_ = df[\"Length\"].hist()"
   ]
  },
  {
   "cell_type": "markdown",
   "metadata": {
    "colab_type": "text",
    "id": "m3wDvyFqJ-oq"
   },
   "source": [
    "As you can see, this particular sample is bimodal and nowhere near a Normal Distribution.  The population I am using in this example is tiny compared to the data traversing a production network.  The number of samples will be much higher as well.\n",
    "\n",
    "## Key takeaways\n",
    "\n",
    "- Check your data, don't make assumptions\n",
    "- The error function only depends on the *number of samples taken*, but the confidence interval **is** dependent on the number of samples taken as well as the sample size.  There is an inverse relationship between variance and the proportion of sample size to population.\n",
    "- Smaller customers will perceive greater billing inaccuracy than larger customers (size relative to traffic generated).\n",
    "- Track the critical metrics.  Timestamps, byte counters, and sample data must be accurate to perform correct calculations."
   ]
  }
 ],
 "metadata": {
  "colab": {
   "collapsed_sections": [],
   "name": "PCAP",
   "provenance": []
  },
  "kernelspec": {
   "display_name": "Python 3",
   "language": "python",
   "name": "python3"
  },
  "language_info": {
   "codemirror_mode": {
    "name": "ipython",
    "version": 3
   },
   "file_extension": ".py",
   "mimetype": "text/x-python",
   "name": "python",
   "nbconvert_exporter": "python",
   "pygments_lexer": "ipython3",
   "version": "3.7.5"
  }
 },
 "nbformat": 4,
 "nbformat_minor": 1
}
