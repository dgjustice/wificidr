{
 "cells": [
  {
   "cell_type": "code",
   "execution_count": 2,
   "metadata": {},
   "outputs": [
    {
     "name": "stdout",
     "output_type": "stream",
     "text": [
      "Using matplotlib backend: Qt5Agg\n"
     ]
    }
   ],
   "source": [
    "# Langston's ant demo\n",
    "%matplotlib\n",
    "import matplotlib.pyplot as plt\n",
    "import numpy as np\n",
    "from collections import namedtuple\n",
    "import matplotlib.animation as animation\n",
    "from matplotlib import rc\n",
    "from IPython.display import HTML\n",
    "\n",
    "# GLOBALS\n",
    "Coord = namedtuple(\"Coord\", \"x,y\")\n",
    "MAX_DIM = 100\n",
    "MAX_ITER = 1000000\n",
    "# x, y, RGB\n",
    "GRID = np.array([[[1.0] * 3] * MAX_DIM] * MAX_DIM)\n",
    "white = ([1.0] * 3)\n",
    "black = ([0] * 3)\n",
    "red = ([1.0, 0, 0])\n",
    "last_color = white\n",
    "\n",
    "TURN = {\n",
    "    \"right\": lambda c1: Coord(c1.y, -c1.x),\n",
    "    \"left\": lambda c1: Coord(-c1.y, c1.x),\n",
    "}\n",
    "\n",
    "def init_grid():\n",
    "    global pos, direction, GRID, count\n",
    "    GRID = np.array([[[1.0] * 3] * MAX_DIM] * MAX_DIM)\n",
    "    direction = Coord(0, 1)\n",
    "    count = 0\n",
    "    pos = Coord(MAX_DIM // 2 + 1, MAX_DIM // 2 + 1)\n",
    "\n",
    "# Just a simple 2D vector ->\n",
    "direction = Coord(0, 1)\n",
    "init_grid()\n",
    "fig = plt.figure()\n",
    "im = plt.imshow(GRID, animated=True)\n",
    "\n",
    "def run(*args):\n",
    "    '''\n",
    "    Per https://en.wikipedia.org/wiki/Langton%27s_ant\n",
    "        At a white square, turn 90° right, flip the color of the square, move forward one unit\n",
    "        At a black square, turn 90° left, flip the color of the square, move forward one unit\n",
    "    '''\n",
    "    global pos, direction, GRID, last_color, count\n",
    "    if abs(pos.x) >= MAX_DIM - 1 or abs(pos.y) >= MAX_DIM - 1 or count > MAX_ITER:\n",
    "        init_grid()\n",
    "    if last_color == white:\n",
    "        GRID[pos] = black\n",
    "        direction = TURN[\"right\"](direction)\n",
    "        pos = Coord(direction.x + pos.x, direction.y + pos.y)\n",
    "    else:\n",
    "        GRID[pos] = white\n",
    "        direction = TURN[\"left\"](direction)\n",
    "        pos = Coord(direction.x + pos.x, direction.y + pos.y)\n",
    "    last_color = list(GRID[pos])\n",
    "    GRID[pos] = red\n",
    "    im.set_array(GRID)\n",
    "    return im,\n",
    "\n",
    "ani = animation.FuncAnimation(fig, run, frames=range(1000), blit=True, interval=1, repeat_delay=3000, repeat=False)\n",
    "Writer = animation.writers['ffmpeg']\n",
    "writer = Writer(fps=15, metadata=dict(artist='Me'), bitrate=1800)\n",
    "ani.save('/tmp/foo.mp4', writer=writer)\n",
    "# plt.show()"
   ]
  }
 ],
 "metadata": {
  "kernelspec": {
   "display_name": "Python 3",
   "language": "python",
   "name": "python3"
  },
  "language_info": {
   "codemirror_mode": {
    "name": "ipython",
    "version": 3
   },
   "file_extension": ".py",
   "mimetype": "text/x-python",
   "name": "python",
   "nbconvert_exporter": "python",
   "pygments_lexer": "ipython3",
   "version": "3.6.4"
  }
 },
 "nbformat": 4,
 "nbformat_minor": 2
}
