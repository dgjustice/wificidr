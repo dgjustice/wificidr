{
 "cells": [
  {
   "cell_type": "code",
   "execution_count": null,
   "metadata": {},
   "outputs": [],
   "source": [
    "{- Problem 29 -}\n",
    "import Data.List\n",
    "import qualified Data.Set as Set\n",
    "\n",
    "length $ Set.fromList [a^b | a <- [2..100], b <- [2..100]]"
   ]
  },
  {
   "cell_type": "code",
   "execution_count": null,
   "metadata": {},
   "outputs": [],
   "source": [
    "{- Problem 30 -}\n",
    "import Data.Char\n",
    "\n",
    "sumPowFive :: Show a => a -> Int\n",
    "sumPowFive n = sum $ map (\\x -> digitToInt x ^ 5) (show n)\n",
    "\n",
    "sum [x | x<-[32..354294], x == sumPowFive x]"
   ]
  }
 ],
 "metadata": {
  "kernelspec": {
   "display_name": "Haskell",
   "language": "haskell",
   "name": "haskell"
  },
  "language_info": {
   "codemirror_mode": "ihaskell",
   "file_extension": ".hs",
   "mimetype": "text/x-haskell",
   "name": "haskell",
   "pygments_lexer": "Haskell",
   "version": "8.6.5"
  }
 },
 "nbformat": 4,
 "nbformat_minor": 4
}
